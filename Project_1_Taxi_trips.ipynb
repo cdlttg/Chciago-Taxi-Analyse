{
  "cells": [
    {
      "cell_type": "code",
      "execution_count": null,
      "id": "2dc35efb",
      "metadata": {
        "id": "2dc35efb"
      },
      "outputs": [],
      "source": [
        "import pandas as pd\n",
        "import numpy as np\n",
        "import geopandas as gpd\n",
        "import datetime\n",
        "import seaborn as sns\n",
        "import matplotlib.pyplot as plt\n",
        "\n",
        "from shapely.geometry import Point, LineString, Polygon\n",
        "from datetime import timedelta"
      ]
    },
    {
      "cell_type": "markdown",
      "source": [
        "**Reading files**\n",
        "\n",
        "Read two csv files - summer and winter, and check the info of the datasets."
      ],
      "metadata": {
        "id": "IDDo60Ti8Oz6"
      },
      "id": "IDDo60Ti8Oz6"
    },
    {
      "cell_type": "code",
      "execution_count": null,
      "id": "413b84ac",
      "metadata": {
        "colab": {
          "base_uri": "https://localhost:8080/",
          "height": 328
        },
        "id": "413b84ac",
        "outputId": "f24615a4-27c9-4bcf-df11-ce7234dc1349"
      },
      "outputs": [
        {
          "output_type": "error",
          "ename": "FileNotFoundError",
          "evalue": "ignored",
          "traceback": [
            "\u001b[0;31m---------------------------------------------------------------------------\u001b[0m",
            "\u001b[0;31mFileNotFoundError\u001b[0m                         Traceback (most recent call last)",
            "\u001b[0;32m<ipython-input-4-efe5a68e4979>\u001b[0m in \u001b[0;36m<module>\u001b[0;34m\u001b[0m\n\u001b[0;32m----> 1\u001b[0;31m \u001b[0msummer\u001b[0m \u001b[0;34m=\u001b[0m \u001b[0mpd\u001b[0m\u001b[0;34m.\u001b[0m\u001b[0mread_csv\u001b[0m\u001b[0;34m(\u001b[0m\u001b[0;34m\"summer_2021.csv\"\u001b[0m\u001b[0;34m)\u001b[0m\u001b[0;34m\u001b[0m\u001b[0;34m\u001b[0m\u001b[0m\n\u001b[0m",
            "\u001b[0;32m/usr/local/lib/python3.7/dist-packages/pandas/util/_decorators.py\u001b[0m in \u001b[0;36mwrapper\u001b[0;34m(*args, **kwargs)\u001b[0m\n\u001b[1;32m    309\u001b[0m                     \u001b[0mstacklevel\u001b[0m\u001b[0;34m=\u001b[0m\u001b[0mstacklevel\u001b[0m\u001b[0;34m,\u001b[0m\u001b[0;34m\u001b[0m\u001b[0;34m\u001b[0m\u001b[0m\n\u001b[1;32m    310\u001b[0m                 )\n\u001b[0;32m--> 311\u001b[0;31m             \u001b[0;32mreturn\u001b[0m \u001b[0mfunc\u001b[0m\u001b[0;34m(\u001b[0m\u001b[0;34m*\u001b[0m\u001b[0margs\u001b[0m\u001b[0;34m,\u001b[0m \u001b[0;34m**\u001b[0m\u001b[0mkwargs\u001b[0m\u001b[0;34m)\u001b[0m\u001b[0;34m\u001b[0m\u001b[0;34m\u001b[0m\u001b[0m\n\u001b[0m\u001b[1;32m    312\u001b[0m \u001b[0;34m\u001b[0m\u001b[0m\n\u001b[1;32m    313\u001b[0m         \u001b[0;32mreturn\u001b[0m \u001b[0mwrapper\u001b[0m\u001b[0;34m\u001b[0m\u001b[0;34m\u001b[0m\u001b[0m\n",
            "\u001b[0;32m/usr/local/lib/python3.7/dist-packages/pandas/io/parsers/readers.py\u001b[0m in \u001b[0;36mread_csv\u001b[0;34m(filepath_or_buffer, sep, delimiter, header, names, index_col, usecols, squeeze, prefix, mangle_dupe_cols, dtype, engine, converters, true_values, false_values, skipinitialspace, skiprows, skipfooter, nrows, na_values, keep_default_na, na_filter, verbose, skip_blank_lines, parse_dates, infer_datetime_format, keep_date_col, date_parser, dayfirst, cache_dates, iterator, chunksize, compression, thousands, decimal, lineterminator, quotechar, quoting, doublequote, escapechar, comment, encoding, encoding_errors, dialect, error_bad_lines, warn_bad_lines, on_bad_lines, delim_whitespace, low_memory, memory_map, float_precision, storage_options)\u001b[0m\n\u001b[1;32m    584\u001b[0m     \u001b[0mkwds\u001b[0m\u001b[0;34m.\u001b[0m\u001b[0mupdate\u001b[0m\u001b[0;34m(\u001b[0m\u001b[0mkwds_defaults\u001b[0m\u001b[0;34m)\u001b[0m\u001b[0;34m\u001b[0m\u001b[0;34m\u001b[0m\u001b[0m\n\u001b[1;32m    585\u001b[0m \u001b[0;34m\u001b[0m\u001b[0m\n\u001b[0;32m--> 586\u001b[0;31m     \u001b[0;32mreturn\u001b[0m \u001b[0m_read\u001b[0m\u001b[0;34m(\u001b[0m\u001b[0mfilepath_or_buffer\u001b[0m\u001b[0;34m,\u001b[0m \u001b[0mkwds\u001b[0m\u001b[0;34m)\u001b[0m\u001b[0;34m\u001b[0m\u001b[0;34m\u001b[0m\u001b[0m\n\u001b[0m\u001b[1;32m    587\u001b[0m \u001b[0;34m\u001b[0m\u001b[0m\n\u001b[1;32m    588\u001b[0m \u001b[0;34m\u001b[0m\u001b[0m\n",
            "\u001b[0;32m/usr/local/lib/python3.7/dist-packages/pandas/io/parsers/readers.py\u001b[0m in \u001b[0;36m_read\u001b[0;34m(filepath_or_buffer, kwds)\u001b[0m\n\u001b[1;32m    480\u001b[0m \u001b[0;34m\u001b[0m\u001b[0m\n\u001b[1;32m    481\u001b[0m     \u001b[0;31m# Create the parser.\u001b[0m\u001b[0;34m\u001b[0m\u001b[0;34m\u001b[0m\u001b[0;34m\u001b[0m\u001b[0m\n\u001b[0;32m--> 482\u001b[0;31m     \u001b[0mparser\u001b[0m \u001b[0;34m=\u001b[0m \u001b[0mTextFileReader\u001b[0m\u001b[0;34m(\u001b[0m\u001b[0mfilepath_or_buffer\u001b[0m\u001b[0;34m,\u001b[0m \u001b[0;34m**\u001b[0m\u001b[0mkwds\u001b[0m\u001b[0;34m)\u001b[0m\u001b[0;34m\u001b[0m\u001b[0;34m\u001b[0m\u001b[0m\n\u001b[0m\u001b[1;32m    483\u001b[0m \u001b[0;34m\u001b[0m\u001b[0m\n\u001b[1;32m    484\u001b[0m     \u001b[0;32mif\u001b[0m \u001b[0mchunksize\u001b[0m \u001b[0;32mor\u001b[0m \u001b[0miterator\u001b[0m\u001b[0;34m:\u001b[0m\u001b[0;34m\u001b[0m\u001b[0;34m\u001b[0m\u001b[0m\n",
            "\u001b[0;32m/usr/local/lib/python3.7/dist-packages/pandas/io/parsers/readers.py\u001b[0m in \u001b[0;36m__init__\u001b[0;34m(self, f, engine, **kwds)\u001b[0m\n\u001b[1;32m    809\u001b[0m             \u001b[0mself\u001b[0m\u001b[0;34m.\u001b[0m\u001b[0moptions\u001b[0m\u001b[0;34m[\u001b[0m\u001b[0;34m\"has_index_names\"\u001b[0m\u001b[0;34m]\u001b[0m \u001b[0;34m=\u001b[0m \u001b[0mkwds\u001b[0m\u001b[0;34m[\u001b[0m\u001b[0;34m\"has_index_names\"\u001b[0m\u001b[0;34m]\u001b[0m\u001b[0;34m\u001b[0m\u001b[0;34m\u001b[0m\u001b[0m\n\u001b[1;32m    810\u001b[0m \u001b[0;34m\u001b[0m\u001b[0m\n\u001b[0;32m--> 811\u001b[0;31m         \u001b[0mself\u001b[0m\u001b[0;34m.\u001b[0m\u001b[0m_engine\u001b[0m \u001b[0;34m=\u001b[0m \u001b[0mself\u001b[0m\u001b[0;34m.\u001b[0m\u001b[0m_make_engine\u001b[0m\u001b[0;34m(\u001b[0m\u001b[0mself\u001b[0m\u001b[0;34m.\u001b[0m\u001b[0mengine\u001b[0m\u001b[0;34m)\u001b[0m\u001b[0;34m\u001b[0m\u001b[0;34m\u001b[0m\u001b[0m\n\u001b[0m\u001b[1;32m    812\u001b[0m \u001b[0;34m\u001b[0m\u001b[0m\n\u001b[1;32m    813\u001b[0m     \u001b[0;32mdef\u001b[0m \u001b[0mclose\u001b[0m\u001b[0;34m(\u001b[0m\u001b[0mself\u001b[0m\u001b[0;34m)\u001b[0m\u001b[0;34m:\u001b[0m\u001b[0;34m\u001b[0m\u001b[0;34m\u001b[0m\u001b[0m\n",
            "\u001b[0;32m/usr/local/lib/python3.7/dist-packages/pandas/io/parsers/readers.py\u001b[0m in \u001b[0;36m_make_engine\u001b[0;34m(self, engine)\u001b[0m\n\u001b[1;32m   1038\u001b[0m             )\n\u001b[1;32m   1039\u001b[0m         \u001b[0;31m# error: Too many arguments for \"ParserBase\"\u001b[0m\u001b[0;34m\u001b[0m\u001b[0;34m\u001b[0m\u001b[0;34m\u001b[0m\u001b[0m\n\u001b[0;32m-> 1040\u001b[0;31m         \u001b[0;32mreturn\u001b[0m \u001b[0mmapping\u001b[0m\u001b[0;34m[\u001b[0m\u001b[0mengine\u001b[0m\u001b[0;34m]\u001b[0m\u001b[0;34m(\u001b[0m\u001b[0mself\u001b[0m\u001b[0;34m.\u001b[0m\u001b[0mf\u001b[0m\u001b[0;34m,\u001b[0m \u001b[0;34m**\u001b[0m\u001b[0mself\u001b[0m\u001b[0;34m.\u001b[0m\u001b[0moptions\u001b[0m\u001b[0;34m)\u001b[0m  \u001b[0;31m# type: ignore[call-arg]\u001b[0m\u001b[0;34m\u001b[0m\u001b[0;34m\u001b[0m\u001b[0m\n\u001b[0m\u001b[1;32m   1041\u001b[0m \u001b[0;34m\u001b[0m\u001b[0m\n\u001b[1;32m   1042\u001b[0m     \u001b[0;32mdef\u001b[0m \u001b[0m_failover_to_python\u001b[0m\u001b[0;34m(\u001b[0m\u001b[0mself\u001b[0m\u001b[0;34m)\u001b[0m\u001b[0;34m:\u001b[0m\u001b[0;34m\u001b[0m\u001b[0;34m\u001b[0m\u001b[0m\n",
            "\u001b[0;32m/usr/local/lib/python3.7/dist-packages/pandas/io/parsers/c_parser_wrapper.py\u001b[0m in \u001b[0;36m__init__\u001b[0;34m(self, src, **kwds)\u001b[0m\n\u001b[1;32m     49\u001b[0m \u001b[0;34m\u001b[0m\u001b[0m\n\u001b[1;32m     50\u001b[0m         \u001b[0;31m# open handles\u001b[0m\u001b[0;34m\u001b[0m\u001b[0;34m\u001b[0m\u001b[0;34m\u001b[0m\u001b[0m\n\u001b[0;32m---> 51\u001b[0;31m         \u001b[0mself\u001b[0m\u001b[0;34m.\u001b[0m\u001b[0m_open_handles\u001b[0m\u001b[0;34m(\u001b[0m\u001b[0msrc\u001b[0m\u001b[0;34m,\u001b[0m \u001b[0mkwds\u001b[0m\u001b[0;34m)\u001b[0m\u001b[0;34m\u001b[0m\u001b[0;34m\u001b[0m\u001b[0m\n\u001b[0m\u001b[1;32m     52\u001b[0m         \u001b[0;32massert\u001b[0m \u001b[0mself\u001b[0m\u001b[0;34m.\u001b[0m\u001b[0mhandles\u001b[0m \u001b[0;32mis\u001b[0m \u001b[0;32mnot\u001b[0m \u001b[0;32mNone\u001b[0m\u001b[0;34m\u001b[0m\u001b[0;34m\u001b[0m\u001b[0m\n\u001b[1;32m     53\u001b[0m \u001b[0;34m\u001b[0m\u001b[0m\n",
            "\u001b[0;32m/usr/local/lib/python3.7/dist-packages/pandas/io/parsers/base_parser.py\u001b[0m in \u001b[0;36m_open_handles\u001b[0;34m(self, src, kwds)\u001b[0m\n\u001b[1;32m    227\u001b[0m             \u001b[0mmemory_map\u001b[0m\u001b[0;34m=\u001b[0m\u001b[0mkwds\u001b[0m\u001b[0;34m.\u001b[0m\u001b[0mget\u001b[0m\u001b[0;34m(\u001b[0m\u001b[0;34m\"memory_map\"\u001b[0m\u001b[0;34m,\u001b[0m \u001b[0;32mFalse\u001b[0m\u001b[0;34m)\u001b[0m\u001b[0;34m,\u001b[0m\u001b[0;34m\u001b[0m\u001b[0;34m\u001b[0m\u001b[0m\n\u001b[1;32m    228\u001b[0m             \u001b[0mstorage_options\u001b[0m\u001b[0;34m=\u001b[0m\u001b[0mkwds\u001b[0m\u001b[0;34m.\u001b[0m\u001b[0mget\u001b[0m\u001b[0;34m(\u001b[0m\u001b[0;34m\"storage_options\"\u001b[0m\u001b[0;34m,\u001b[0m \u001b[0;32mNone\u001b[0m\u001b[0;34m)\u001b[0m\u001b[0;34m,\u001b[0m\u001b[0;34m\u001b[0m\u001b[0;34m\u001b[0m\u001b[0m\n\u001b[0;32m--> 229\u001b[0;31m             \u001b[0merrors\u001b[0m\u001b[0;34m=\u001b[0m\u001b[0mkwds\u001b[0m\u001b[0;34m.\u001b[0m\u001b[0mget\u001b[0m\u001b[0;34m(\u001b[0m\u001b[0;34m\"encoding_errors\"\u001b[0m\u001b[0;34m,\u001b[0m \u001b[0;34m\"strict\"\u001b[0m\u001b[0;34m)\u001b[0m\u001b[0;34m,\u001b[0m\u001b[0;34m\u001b[0m\u001b[0;34m\u001b[0m\u001b[0m\n\u001b[0m\u001b[1;32m    230\u001b[0m         )\n\u001b[1;32m    231\u001b[0m \u001b[0;34m\u001b[0m\u001b[0m\n",
            "\u001b[0;32m/usr/local/lib/python3.7/dist-packages/pandas/io/common.py\u001b[0m in \u001b[0;36mget_handle\u001b[0;34m(path_or_buf, mode, encoding, compression, memory_map, is_text, errors, storage_options)\u001b[0m\n\u001b[1;32m    705\u001b[0m                 \u001b[0mencoding\u001b[0m\u001b[0;34m=\u001b[0m\u001b[0mioargs\u001b[0m\u001b[0;34m.\u001b[0m\u001b[0mencoding\u001b[0m\u001b[0;34m,\u001b[0m\u001b[0;34m\u001b[0m\u001b[0;34m\u001b[0m\u001b[0m\n\u001b[1;32m    706\u001b[0m                 \u001b[0merrors\u001b[0m\u001b[0;34m=\u001b[0m\u001b[0merrors\u001b[0m\u001b[0;34m,\u001b[0m\u001b[0;34m\u001b[0m\u001b[0;34m\u001b[0m\u001b[0m\n\u001b[0;32m--> 707\u001b[0;31m                 \u001b[0mnewline\u001b[0m\u001b[0;34m=\u001b[0m\u001b[0;34m\"\"\u001b[0m\u001b[0;34m,\u001b[0m\u001b[0;34m\u001b[0m\u001b[0;34m\u001b[0m\u001b[0m\n\u001b[0m\u001b[1;32m    708\u001b[0m             )\n\u001b[1;32m    709\u001b[0m         \u001b[0;32melse\u001b[0m\u001b[0;34m:\u001b[0m\u001b[0;34m\u001b[0m\u001b[0;34m\u001b[0m\u001b[0m\n",
            "\u001b[0;31mFileNotFoundError\u001b[0m: [Errno 2] No such file or directory: 'summer_2021.csv'"
          ]
        }
      ],
      "source": [
        "summer = pd.read_csv(\"summer_2021.csv\")"
      ]
    },
    {
      "cell_type": "code",
      "execution_count": null,
      "id": "b7b24aca",
      "metadata": {
        "id": "b7b24aca",
        "outputId": "440d231f-b54f-4704-e1c9-69941333b9c3"
      },
      "outputs": [
        {
          "name": "stdout",
          "output_type": "stream",
          "text": [
            "<class 'pandas.core.frame.DataFrame'>\n",
            "RangeIndex: 1136283 entries, 0 to 1136282\n",
            "Data columns (total 23 columns):\n",
            " #   Column                      Non-Null Count    Dtype  \n",
            "---  ------                      --------------    -----  \n",
            " 0   Trip ID                     1136283 non-null  object \n",
            " 1   Taxi ID                     1136278 non-null  object \n",
            " 2   Trip Start Timestamp        1136283 non-null  object \n",
            " 3   Trip End Timestamp          1136283 non-null  object \n",
            " 4   Trip Seconds                1136058 non-null  float64\n",
            " 5   Trip Miles                  1136016 non-null  float64\n",
            " 6   Pickup Census Tract         345232 non-null   float64\n",
            " 7   Dropoff Census Tract        339452 non-null   float64\n",
            " 8   Pickup Community Area       1037654 non-null  float64\n",
            " 9   Dropoff Community Area      985227 non-null   float64\n",
            " 10  Fare                        1136155 non-null  float64\n",
            " 11  Tips                        1136155 non-null  float64\n",
            " 12  Tolls                       1136155 non-null  float64\n",
            " 13  Extras                      1136155 non-null  float64\n",
            " 14  Trip Total                  1136155 non-null  float64\n",
            " 15  Payment Type                1136283 non-null  object \n",
            " 16  Company                     1136283 non-null  object \n",
            " 17  Pickup Centroid Latitude    1038088 non-null  float64\n",
            " 18  Pickup Centroid Longitude   1038088 non-null  float64\n",
            " 19  Pickup Centroid Location    1038088 non-null  object \n",
            " 20  Dropoff Centroid Latitude   992207 non-null   float64\n",
            " 21  Dropoff Centroid Longitude  992207 non-null   float64\n",
            " 22  Dropoff Centroid  Location  992207 non-null   object \n",
            "dtypes: float64(15), object(8)\n",
            "memory usage: 199.4+ MB\n"
          ]
        }
      ],
      "source": [
        "summer.info()"
      ]
    },
    {
      "cell_type": "code",
      "execution_count": null,
      "id": "9f657148",
      "metadata": {
        "id": "9f657148"
      },
      "outputs": [],
      "source": [
        "winter = pd.read_csv(\"winter_2021.csv\")"
      ]
    },
    {
      "cell_type": "code",
      "execution_count": null,
      "id": "2c1ff851",
      "metadata": {
        "id": "2c1ff851",
        "outputId": "c59dd094-defd-443c-8b11-802c5719facf"
      },
      "outputs": [
        {
          "name": "stdout",
          "output_type": "stream",
          "text": [
            "<class 'pandas.core.frame.DataFrame'>\n",
            "RangeIndex: 1370851 entries, 0 to 1370850\n",
            "Data columns (total 23 columns):\n",
            " #   Column                      Non-Null Count    Dtype  \n",
            "---  ------                      --------------    -----  \n",
            " 0   Trip ID                     1370851 non-null  object \n",
            " 1   Taxi ID                     1370649 non-null  object \n",
            " 2   Trip Start Timestamp        1370851 non-null  object \n",
            " 3   Trip End Timestamp          1370851 non-null  object \n",
            " 4   Trip Seconds                1370541 non-null  float64\n",
            " 5   Trip Miles                  1370700 non-null  float64\n",
            " 6   Pickup Census Tract         512578 non-null   float64\n",
            " 7   Dropoff Census Tract        513435 non-null   float64\n",
            " 8   Pickup Community Area       1266782 non-null  float64\n",
            " 9   Dropoff Community Area      1227909 non-null  float64\n",
            " 10  Fare                        1370562 non-null  float64\n",
            " 11  Tips                        1370562 non-null  float64\n",
            " 12  Tolls                       1370562 non-null  float64\n",
            " 13  Extras                      1370562 non-null  float64\n",
            " 14  Trip Total                  1370562 non-null  float64\n",
            " 15  Payment Type                1370851 non-null  object \n",
            " 16  Company                     1370851 non-null  object \n",
            " 17  Pickup Centroid Latitude    1267103 non-null  float64\n",
            " 18  Pickup Centroid Longitude   1267103 non-null  float64\n",
            " 19  Pickup Centroid Location    1267103 non-null  object \n",
            " 20  Dropoff Centroid Latitude   1233075 non-null  float64\n",
            " 21  Dropoff Centroid Longitude  1233075 non-null  float64\n",
            " 22  Dropoff Centroid  Location  1233075 non-null  object \n",
            "dtypes: float64(15), object(8)\n",
            "memory usage: 240.6+ MB\n"
          ]
        }
      ],
      "source": [
        "winter.info()"
      ]
    },
    {
      "cell_type": "code",
      "execution_count": null,
      "id": "7bd72ad8",
      "metadata": {
        "id": "7bd72ad8",
        "outputId": "5da21080-90da-4641-980f-87f2965527ae"
      },
      "outputs": [
        {
          "data": {
            "text/html": [
              "<div>\n",
              "<style scoped>\n",
              "    .dataframe tbody tr th:only-of-type {\n",
              "        vertical-align: middle;\n",
              "    }\n",
              "\n",
              "    .dataframe tbody tr th {\n",
              "        vertical-align: top;\n",
              "    }\n",
              "\n",
              "    .dataframe thead th {\n",
              "        text-align: right;\n",
              "    }\n",
              "</style>\n",
              "<table border=\"1\" class=\"dataframe\">\n",
              "  <thead>\n",
              "    <tr style=\"text-align: right;\">\n",
              "      <th></th>\n",
              "      <th>Trip ID</th>\n",
              "      <th>Taxi ID</th>\n",
              "      <th>Trip Start Timestamp</th>\n",
              "      <th>Trip End Timestamp</th>\n",
              "      <th>Trip Seconds</th>\n",
              "      <th>Trip Miles</th>\n",
              "      <th>Pickup Census Tract</th>\n",
              "      <th>Dropoff Census Tract</th>\n",
              "      <th>Pickup Community Area</th>\n",
              "      <th>Dropoff Community Area</th>\n",
              "      <th>...</th>\n",
              "      <th>Extras</th>\n",
              "      <th>Trip Total</th>\n",
              "      <th>Payment Type</th>\n",
              "      <th>Company</th>\n",
              "      <th>Pickup Centroid Latitude</th>\n",
              "      <th>Pickup Centroid Longitude</th>\n",
              "      <th>Pickup Centroid Location</th>\n",
              "      <th>Dropoff Centroid Latitude</th>\n",
              "      <th>Dropoff Centroid Longitude</th>\n",
              "      <th>Dropoff Centroid  Location</th>\n",
              "    </tr>\n",
              "  </thead>\n",
              "  <tbody>\n",
              "    <tr>\n",
              "      <th>1370850</th>\n",
              "      <td>18c63ea0856a928490f91acfc35043ca3dca1fcc</td>\n",
              "      <td>55e53aceec1519445bae3e8414b4cbf11e59e50800f714...</td>\n",
              "      <td>03/23/2022 10:30:00 PM</td>\n",
              "      <td>09/22/2014 02:00:00 PM</td>\n",
              "      <td>NaN</td>\n",
              "      <td>1.0</td>\n",
              "      <td>NaN</td>\n",
              "      <td>NaN</td>\n",
              "      <td>NaN</td>\n",
              "      <td>8.0</td>\n",
              "      <td>...</td>\n",
              "      <td>2.0</td>\n",
              "      <td>38.05</td>\n",
              "      <td>Cash</td>\n",
              "      <td>Blue Ribbon Taxi Association Inc.</td>\n",
              "      <td>NaN</td>\n",
              "      <td>NaN</td>\n",
              "      <td>NaN</td>\n",
              "      <td>41.899602</td>\n",
              "      <td>-87.633308</td>\n",
              "      <td>POINT (-87.6333080367 41.899602111)</td>\n",
              "    </tr>\n",
              "  </tbody>\n",
              "</table>\n",
              "<p>1 rows × 23 columns</p>\n",
              "</div>"
            ],
            "text/plain": [
              "                                          Trip ID  \\\n",
              "1370850  18c63ea0856a928490f91acfc35043ca3dca1fcc   \n",
              "\n",
              "                                                   Taxi ID  \\\n",
              "1370850  55e53aceec1519445bae3e8414b4cbf11e59e50800f714...   \n",
              "\n",
              "           Trip Start Timestamp      Trip End Timestamp  Trip Seconds  \\\n",
              "1370850  03/23/2022 10:30:00 PM  09/22/2014 02:00:00 PM           NaN   \n",
              "\n",
              "         Trip Miles  Pickup Census Tract  Dropoff Census Tract  \\\n",
              "1370850         1.0                  NaN                   NaN   \n",
              "\n",
              "         Pickup Community Area  Dropoff Community Area  ...  Extras  \\\n",
              "1370850                    NaN                     8.0  ...     2.0   \n",
              "\n",
              "         Trip Total  Payment Type                            Company  \\\n",
              "1370850       38.05          Cash  Blue Ribbon Taxi Association Inc.   \n",
              "\n",
              "         Pickup Centroid Latitude Pickup Centroid Longitude  \\\n",
              "1370850                       NaN                       NaN   \n",
              "\n",
              "        Pickup Centroid Location  Dropoff Centroid Latitude  \\\n",
              "1370850                      NaN                  41.899602   \n",
              "\n",
              "         Dropoff Centroid Longitude           Dropoff Centroid  Location  \n",
              "1370850                  -87.633308  POINT (-87.6333080367 41.899602111)  \n",
              "\n",
              "[1 rows x 23 columns]"
            ]
          },
          "execution_count": 139,
          "metadata": {},
          "output_type": "execute_result"
        }
      ],
      "source": [
        "winter.tail(20)"
      ]
    },
    {
      "cell_type": "markdown",
      "source": [
        "**Data cleaning**\n",
        "\n",
        "1. We don't want the data has zero trip miles.\n",
        "2. By checking the dataset, we find there are some data's starting time is after the ending time. We need to drop these data as well.\n",
        "3. Also, we need to drop the NaN in the columns of Trip Secondsd and Trip Miles."
      ],
      "metadata": {
        "id": "cThd6XUd8Z8E"
      },
      "id": "cThd6XUd8Z8E"
    },
    {
      "cell_type": "code",
      "execution_count": null,
      "id": "697dddb9",
      "metadata": {
        "id": "697dddb9"
      },
      "outputs": [],
      "source": [
        "summer = summer[summer['Trip Miles']>0]\n",
        "winter = winter[winter['Trip Miles']>0]"
      ]
    },
    {
      "cell_type": "code",
      "execution_count": null,
      "id": "5394fa44",
      "metadata": {
        "id": "5394fa44"
      },
      "outputs": [],
      "source": [
        "summer['Trip Start Timestamp'] = pd.to_datetime(summer['Trip Start Timestamp'])\n",
        "summer['Trip End Timestamp'] = pd.to_datetime(summer['Trip End Timestamp'])\n",
        "winter['Trip Start Timestamp'] = pd.to_datetime(winter['Trip Start Timestamp'])\n",
        "winter['Trip End Timestamp'] = pd.to_datetime(winter['Trip End Timestamp'])"
      ]
    },
    {
      "cell_type": "code",
      "execution_count": null,
      "id": "03ef9836",
      "metadata": {
        "id": "03ef9836"
      },
      "outputs": [],
      "source": [
        "summer = summer[summer['Trip Miles'] != 0]\n",
        "summer = summer.drop(summer[(summer['Trip Start Timestamp'] > summer['Trip End Timestamp'])].index)\n",
        "winter = winter[winter['Trip Miles'] != 0]\n",
        "winter = winter.drop(winter[(winter['Trip Start Timestamp'] > winter['Trip End Timestamp'])].index)"
      ]
    },
    {
      "cell_type": "code",
      "execution_count": null,
      "id": "debf73e9",
      "metadata": {
        "id": "debf73e9",
        "outputId": "6c8e401f-0001-4bb3-8d56-cbe2b6128867"
      },
      "outputs": [
        {
          "name": "stdout",
          "output_type": "stream",
          "text": [
            "<class 'pandas.core.frame.DataFrame'>\n",
            "Int64Index: 949557 entries, 0 to 1136278\n",
            "Data columns (total 23 columns):\n",
            " #   Column                      Non-Null Count   Dtype         \n",
            "---  ------                      --------------   -----         \n",
            " 0   Trip ID                     949557 non-null  object        \n",
            " 1   Taxi ID                     949554 non-null  object        \n",
            " 2   Trip Start Timestamp        949557 non-null  datetime64[ns]\n",
            " 3   Trip End Timestamp          949557 non-null  datetime64[ns]\n",
            " 4   Trip Seconds                949375 non-null  float64       \n",
            " 5   Trip Miles                  949557 non-null  float64       \n",
            " 6   Pickup Census Tract         280592 non-null  float64       \n",
            " 7   Dropoff Census Tract        278072 non-null  float64       \n",
            " 8   Pickup Community Area       865875 non-null  float64       \n",
            " 9   Dropoff Community Area      821835 non-null  float64       \n",
            " 10  Fare                        949461 non-null  float64       \n",
            " 11  Tips                        949461 non-null  float64       \n",
            " 12  Tolls                       949461 non-null  float64       \n",
            " 13  Extras                      949461 non-null  float64       \n",
            " 14  Trip Total                  949461 non-null  float64       \n",
            " 15  Payment Type                949557 non-null  object        \n",
            " 16  Company                     949557 non-null  object        \n",
            " 17  Pickup Centroid Latitude    865947 non-null  float64       \n",
            " 18  Pickup Centroid Longitude   865947 non-null  float64       \n",
            " 19  Pickup Centroid Location    865947 non-null  object        \n",
            " 20  Dropoff Centroid Latitude   828165 non-null  float64       \n",
            " 21  Dropoff Centroid Longitude  828165 non-null  float64       \n",
            " 22  Dropoff Centroid  Location  828165 non-null  object        \n",
            "dtypes: datetime64[ns](2), float64(15), object(6)\n",
            "memory usage: 173.9+ MB\n"
          ]
        }
      ],
      "source": [
        "summer.info()"
      ]
    },
    {
      "cell_type": "code",
      "execution_count": null,
      "id": "111e37a0",
      "metadata": {
        "id": "111e37a0",
        "outputId": "c7458839-a24e-4c4e-a11f-0b10d75384aa"
      },
      "outputs": [
        {
          "data": {
            "text/html": [
              "<div>\n",
              "<style scoped>\n",
              "    .dataframe tbody tr th:only-of-type {\n",
              "        vertical-align: middle;\n",
              "    }\n",
              "\n",
              "    .dataframe tbody tr th {\n",
              "        vertical-align: top;\n",
              "    }\n",
              "\n",
              "    .dataframe thead th {\n",
              "        text-align: right;\n",
              "    }\n",
              "</style>\n",
              "<table border=\"1\" class=\"dataframe\">\n",
              "  <thead>\n",
              "    <tr style=\"text-align: right;\">\n",
              "      <th></th>\n",
              "      <th>Trip ID</th>\n",
              "      <th>Taxi ID</th>\n",
              "      <th>Trip Start Timestamp</th>\n",
              "      <th>Trip End Timestamp</th>\n",
              "      <th>Trip Seconds</th>\n",
              "      <th>Trip Miles</th>\n",
              "      <th>Pickup Census Tract</th>\n",
              "      <th>Dropoff Census Tract</th>\n",
              "      <th>Pickup Community Area</th>\n",
              "      <th>Dropoff Community Area</th>\n",
              "      <th>...</th>\n",
              "      <th>Extras</th>\n",
              "      <th>Trip Total</th>\n",
              "      <th>Payment Type</th>\n",
              "      <th>Company</th>\n",
              "      <th>Pickup Centroid Latitude</th>\n",
              "      <th>Pickup Centroid Longitude</th>\n",
              "      <th>Pickup Centroid Location</th>\n",
              "      <th>Dropoff Centroid Latitude</th>\n",
              "      <th>Dropoff Centroid Longitude</th>\n",
              "      <th>Dropoff Centroid  Location</th>\n",
              "    </tr>\n",
              "  </thead>\n",
              "  <tbody>\n",
              "    <tr>\n",
              "      <th>0</th>\n",
              "      <td>dba133677195863cad188211430dc96b397ed9d2</td>\n",
              "      <td>89c8884dd87ee559429e92b9546ba19eb18736a172aef7...</td>\n",
              "      <td>2021-10-01 00:15:00</td>\n",
              "      <td>2021-10-01 00:45:00</td>\n",
              "      <td>1654.0</td>\n",
              "      <td>14.34</td>\n",
              "      <td>NaN</td>\n",
              "      <td>NaN</td>\n",
              "      <td>NaN</td>\n",
              "      <td>NaN</td>\n",
              "      <td>...</td>\n",
              "      <td>4.0</td>\n",
              "      <td>51.56</td>\n",
              "      <td>Credit Card</td>\n",
              "      <td>Flash Cab</td>\n",
              "      <td>NaN</td>\n",
              "      <td>NaN</td>\n",
              "      <td>NaN</td>\n",
              "      <td>NaN</td>\n",
              "      <td>NaN</td>\n",
              "      <td>NaN</td>\n",
              "    </tr>\n",
              "    <tr>\n",
              "      <th>1</th>\n",
              "      <td>07ee3a858ce0bb2b4a323e151f1f18636845c707</td>\n",
              "      <td>f71223a469d78a2f65a090adc9d4fb5ae08dfc6694c650...</td>\n",
              "      <td>2021-10-01 00:15:00</td>\n",
              "      <td>2021-10-01 00:15:00</td>\n",
              "      <td>410.0</td>\n",
              "      <td>1.84</td>\n",
              "      <td>NaN</td>\n",
              "      <td>NaN</td>\n",
              "      <td>8.0</td>\n",
              "      <td>7.0</td>\n",
              "      <td>...</td>\n",
              "      <td>0.0</td>\n",
              "      <td>8.00</td>\n",
              "      <td>Cash</td>\n",
              "      <td>Chicago Independents</td>\n",
              "      <td>41.899602</td>\n",
              "      <td>-87.633308</td>\n",
              "      <td>POINT (-87.6333080367 41.899602111)</td>\n",
              "      <td>41.922686</td>\n",
              "      <td>-87.649489</td>\n",
              "      <td>POINT (-87.6494887289 41.9226862843)</td>\n",
              "    </tr>\n",
              "    <tr>\n",
              "      <th>2</th>\n",
              "      <td>1c7d27ddd6b225031154e84bccc773b793d9d165</td>\n",
              "      <td>16c9cec3bf7e9c7a75a8c64e649e390af508e6e9694b80...</td>\n",
              "      <td>2021-10-01 00:15:00</td>\n",
              "      <td>2021-10-01 00:30:00</td>\n",
              "      <td>1500.0</td>\n",
              "      <td>1.10</td>\n",
              "      <td>1.703198e+10</td>\n",
              "      <td>1.703184e+10</td>\n",
              "      <td>76.0</td>\n",
              "      <td>32.0</td>\n",
              "      <td>...</td>\n",
              "      <td>4.0</td>\n",
              "      <td>58.00</td>\n",
              "      <td>Credit Card</td>\n",
              "      <td>Taxi Affiliation Services</td>\n",
              "      <td>41.979071</td>\n",
              "      <td>-87.903040</td>\n",
              "      <td>POINT (-87.9030396611 41.9790708201)</td>\n",
              "      <td>41.880994</td>\n",
              "      <td>-87.632746</td>\n",
              "      <td>POINT (-87.6327464887 41.8809944707)</td>\n",
              "    </tr>\n",
              "    <tr>\n",
              "      <th>6</th>\n",
              "      <td>2bbd826fe9a43cc3fa29a324d7cc1c884400320e</td>\n",
              "      <td>a6339ac0faf854f037370b311945d5e1e67b8fd7ff537d...</td>\n",
              "      <td>2021-10-01 00:15:00</td>\n",
              "      <td>2021-10-01 00:45:00</td>\n",
              "      <td>1892.0</td>\n",
              "      <td>22.71</td>\n",
              "      <td>1.703198e+10</td>\n",
              "      <td>NaN</td>\n",
              "      <td>76.0</td>\n",
              "      <td>NaN</td>\n",
              "      <td>...</td>\n",
              "      <td>35.5</td>\n",
              "      <td>109.50</td>\n",
              "      <td>Credit Card</td>\n",
              "      <td>City Service</td>\n",
              "      <td>41.979071</td>\n",
              "      <td>-87.903040</td>\n",
              "      <td>POINT (-87.9030396611 41.9790708201)</td>\n",
              "      <td>NaN</td>\n",
              "      <td>NaN</td>\n",
              "      <td>NaN</td>\n",
              "    </tr>\n",
              "    <tr>\n",
              "      <th>7</th>\n",
              "      <td>2abfc1004e7c7d211d01afea4342c7f359c7a429</td>\n",
              "      <td>8b1a88e5a09cfd55ca72d267f00f56fa50a42aa322bdfe...</td>\n",
              "      <td>2021-10-01 00:15:00</td>\n",
              "      <td>2021-10-01 00:30:00</td>\n",
              "      <td>1143.0</td>\n",
              "      <td>12.35</td>\n",
              "      <td>NaN</td>\n",
              "      <td>NaN</td>\n",
              "      <td>NaN</td>\n",
              "      <td>22.0</td>\n",
              "      <td>...</td>\n",
              "      <td>4.0</td>\n",
              "      <td>43.50</td>\n",
              "      <td>Credit Card</td>\n",
              "      <td>Flash Cab</td>\n",
              "      <td>NaN</td>\n",
              "      <td>NaN</td>\n",
              "      <td>NaN</td>\n",
              "      <td>41.922761</td>\n",
              "      <td>-87.699155</td>\n",
              "      <td>POINT (-87.6991553432 41.9227606205)</td>\n",
              "    </tr>\n",
              "  </tbody>\n",
              "</table>\n",
              "<p>5 rows × 23 columns</p>\n",
              "</div>"
            ],
            "text/plain": [
              "                                    Trip ID  \\\n",
              "0  dba133677195863cad188211430dc96b397ed9d2   \n",
              "1  07ee3a858ce0bb2b4a323e151f1f18636845c707   \n",
              "2  1c7d27ddd6b225031154e84bccc773b793d9d165   \n",
              "6  2bbd826fe9a43cc3fa29a324d7cc1c884400320e   \n",
              "7  2abfc1004e7c7d211d01afea4342c7f359c7a429   \n",
              "\n",
              "                                             Taxi ID Trip Start Timestamp  \\\n",
              "0  89c8884dd87ee559429e92b9546ba19eb18736a172aef7...  2021-10-01 00:15:00   \n",
              "1  f71223a469d78a2f65a090adc9d4fb5ae08dfc6694c650...  2021-10-01 00:15:00   \n",
              "2  16c9cec3bf7e9c7a75a8c64e649e390af508e6e9694b80...  2021-10-01 00:15:00   \n",
              "6  a6339ac0faf854f037370b311945d5e1e67b8fd7ff537d...  2021-10-01 00:15:00   \n",
              "7  8b1a88e5a09cfd55ca72d267f00f56fa50a42aa322bdfe...  2021-10-01 00:15:00   \n",
              "\n",
              "   Trip End Timestamp  Trip Seconds  Trip Miles  Pickup Census Tract  \\\n",
              "0 2021-10-01 00:45:00        1654.0       14.34                  NaN   \n",
              "1 2021-10-01 00:15:00         410.0        1.84                  NaN   \n",
              "2 2021-10-01 00:30:00        1500.0        1.10         1.703198e+10   \n",
              "6 2021-10-01 00:45:00        1892.0       22.71         1.703198e+10   \n",
              "7 2021-10-01 00:30:00        1143.0       12.35                  NaN   \n",
              "\n",
              "   Dropoff Census Tract  Pickup Community Area  Dropoff Community Area  ...  \\\n",
              "0                   NaN                    NaN                     NaN  ...   \n",
              "1                   NaN                    8.0                     7.0  ...   \n",
              "2          1.703184e+10                   76.0                    32.0  ...   \n",
              "6                   NaN                   76.0                     NaN  ...   \n",
              "7                   NaN                    NaN                    22.0  ...   \n",
              "\n",
              "   Extras  Trip Total  Payment Type                    Company  \\\n",
              "0     4.0       51.56   Credit Card                  Flash Cab   \n",
              "1     0.0        8.00          Cash       Chicago Independents   \n",
              "2     4.0       58.00   Credit Card  Taxi Affiliation Services   \n",
              "6    35.5      109.50   Credit Card               City Service   \n",
              "7     4.0       43.50   Credit Card                  Flash Cab   \n",
              "\n",
              "   Pickup Centroid Latitude Pickup Centroid Longitude  \\\n",
              "0                       NaN                       NaN   \n",
              "1                 41.899602                -87.633308   \n",
              "2                 41.979071                -87.903040   \n",
              "6                 41.979071                -87.903040   \n",
              "7                       NaN                       NaN   \n",
              "\n",
              "               Pickup Centroid Location  Dropoff Centroid Latitude  \\\n",
              "0                                   NaN                        NaN   \n",
              "1   POINT (-87.6333080367 41.899602111)                  41.922686   \n",
              "2  POINT (-87.9030396611 41.9790708201)                  41.880994   \n",
              "6  POINT (-87.9030396611 41.9790708201)                        NaN   \n",
              "7                                   NaN                  41.922761   \n",
              "\n",
              "   Dropoff Centroid Longitude            Dropoff Centroid  Location  \n",
              "0                         NaN                                   NaN  \n",
              "1                  -87.649489  POINT (-87.6494887289 41.9226862843)  \n",
              "2                  -87.632746  POINT (-87.6327464887 41.8809944707)  \n",
              "6                         NaN                                   NaN  \n",
              "7                  -87.699155  POINT (-87.6991553432 41.9227606205)  \n",
              "\n",
              "[5 rows x 23 columns]"
            ]
          },
          "execution_count": 10,
          "metadata": {},
          "output_type": "execute_result"
        }
      ],
      "source": [
        "winter.head()"
      ]
    },
    {
      "cell_type": "markdown",
      "source": [
        "**Make graph based on different conditions**\n",
        "\n",
        "For these graphs below, we only use the dataset that we read already."
      ],
      "metadata": {
        "id": "HyNquMyJ9qeg"
      },
      "id": "HyNquMyJ9qeg"
    },
    {
      "cell_type": "code",
      "execution_count": null,
      "id": "fa9b7dfa",
      "metadata": {
        "id": "fa9b7dfa"
      },
      "outputs": [],
      "source": [
        "summer_hr = summer.groupby(summer['Trip Start Timestamp'].dt.hour).count()\n",
        "summer_hr = pd.DataFrame(summer_hr,columns=['Trip ID'])\n",
        "summer_hr.columns = ['num of rides']\n",
        "summer_hr['hour'] = list(range(0,24))\n",
        "\n",
        "winter_hr = winter.groupby(winter['Trip Start Timestamp'].dt.hour).count()\n",
        "winter_hr = pd.DataFrame(winter_hr,columns=['Trip ID'])\n",
        "winter_hr.columns = ['num of rides']\n",
        "winter_hr['hour'] = list(range(0,24))"
      ]
    },
    {
      "cell_type": "code",
      "execution_count": null,
      "id": "65c6ba62",
      "metadata": {
        "id": "65c6ba62",
        "outputId": "1ebedfa0-12ef-4cd5-97a3-8294f0fdbe47"
      },
      "outputs": [
        {
          "data": {
            "text/html": [
              "<div>\n",
              "<style scoped>\n",
              "    .dataframe tbody tr th:only-of-type {\n",
              "        vertical-align: middle;\n",
              "    }\n",
              "\n",
              "    .dataframe tbody tr th {\n",
              "        vertical-align: top;\n",
              "    }\n",
              "\n",
              "    .dataframe thead th {\n",
              "        text-align: right;\n",
              "    }\n",
              "</style>\n",
              "<table border=\"1\" class=\"dataframe\">\n",
              "  <thead>\n",
              "    <tr style=\"text-align: right;\">\n",
              "      <th></th>\n",
              "      <th>num of rides</th>\n",
              "      <th>hour</th>\n",
              "    </tr>\n",
              "    <tr>\n",
              "      <th>Trip Start Timestamp</th>\n",
              "      <th></th>\n",
              "      <th></th>\n",
              "    </tr>\n",
              "  </thead>\n",
              "  <tbody>\n",
              "    <tr>\n",
              "      <th>0</th>\n",
              "      <td>22685</td>\n",
              "      <td>0</td>\n",
              "    </tr>\n",
              "    <tr>\n",
              "      <th>1</th>\n",
              "      <td>16672</td>\n",
              "      <td>1</td>\n",
              "    </tr>\n",
              "    <tr>\n",
              "      <th>2</th>\n",
              "      <td>11297</td>\n",
              "      <td>2</td>\n",
              "    </tr>\n",
              "    <tr>\n",
              "      <th>3</th>\n",
              "      <td>7281</td>\n",
              "      <td>3</td>\n",
              "    </tr>\n",
              "    <tr>\n",
              "      <th>4</th>\n",
              "      <td>6195</td>\n",
              "      <td>4</td>\n",
              "    </tr>\n",
              "  </tbody>\n",
              "</table>\n",
              "</div>"
            ],
            "text/plain": [
              "                      num of rides  hour\n",
              "Trip Start Timestamp                    \n",
              "0                            22685     0\n",
              "1                            16672     1\n",
              "2                            11297     2\n",
              "3                             7281     3\n",
              "4                             6195     4"
            ]
          },
          "execution_count": 98,
          "metadata": {},
          "output_type": "execute_result"
        }
      ],
      "source": [
        "summer_hr.head()"
      ]
    },
    {
      "cell_type": "code",
      "execution_count": null,
      "id": "21fea931",
      "metadata": {
        "id": "21fea931",
        "outputId": "648f9696-0352-48bd-daa8-db88019bbadc"
      },
      "outputs": [
        {
          "data": {
            "text/plain": [
              "Text(0.5, 1.0, 'The total number of rides in summer based on each hour')"
            ]
          },
          "execution_count": 106,
          "metadata": {},
          "output_type": "execute_result"
        },
        {
          "data": {
            "image/png": "[encoded data removed]",
            "text/plain": [
              "<Figure size 432x288 with 1 Axes>"
            ]
          },
          "metadata": {
            "needs_background": "light"
          },
          "output_type": "display_data"
        }
      ],
      "source": [
        "sns.color_palette(\"rocket\", as_cmap=True)\n",
        "ax = sns.barplot(x='hour',y='num of rides',palette = \"rocket\", data=summer_hr)\n",
        "plt.title('The total number of rides in summer based on each hour')"
      ]
    },
    {
      "cell_type": "code",
      "execution_count": null,
      "id": "44e0f1a1",
      "metadata": {
        "id": "44e0f1a1",
        "outputId": "52ea1231-5061-4125-e208-56c165c646b3"
      },
      "outputs": [
        {
          "data": {
            "text/plain": [
              "Text(0.5, 1.0, 'The total number of rides in winter based on each hour')"
            ]
          },
          "execution_count": 110,
          "metadata": {},
          "output_type": "execute_result"
        },
        {
          "data": {
            "image/png": "[encoded data removed]",
            "text/plain": [
              "<Figure size 432x288 with 1 Axes>"
            ]
          },
          "metadata": {
            "needs_background": "light"
          },
          "output_type": "display_data"
        }
      ],
      "source": [
        "sns.color_palette(\"mako\", as_cmap=True)\n",
        "ax = sns.barplot(x='hour',y='num of rides',palette = \"mako\", data=winter_hr)\n",
        "plt.title('The total number of rides in winter based on each hour')"
      ]
    },
    {
      "cell_type": "code",
      "execution_count": null,
      "id": "82c1624e",
      "metadata": {
        "id": "82c1624e"
      },
      "outputs": [],
      "source": [
        "summer_pr = summer.groupby(summer['Trip Start Timestamp'].dt.hour).mean()\n",
        "summer_pr = pd.DataFrame(summer_pr,columns=['Trip Total'])\n",
        "summer_pr.columns = ['ave spending']\n",
        "summer_pr['hour'] = list(range(0,24))\n",
        "\n",
        "winter_pr = winter.groupby(winter['Trip Start Timestamp'].dt.hour).mean()\n",
        "winter_pr = pd.DataFrame(winter_pr,columns=['Trip Total'])\n",
        "winter_pr.columns = ['ave spending']\n",
        "winter_pr['hour'] = list(range(0,24))"
      ]
    },
    {
      "cell_type": "code",
      "execution_count": null,
      "id": "6cf42c46",
      "metadata": {
        "id": "6cf42c46",
        "outputId": "d261706b-3711-4ad9-d58c-c5a18f388d0a"
      },
      "outputs": [
        {
          "data": {
            "text/plain": [
              "Text(0.5, 1.0, 'The average spending of one ride in summer based on each hour')"
            ]
          },
          "execution_count": 130,
          "metadata": {},
          "output_type": "execute_result"
        },
        {
          "data": {
            "image/png": "[encoded data removed]",
            "text/plain": [
              "<Figure size 432x288 with 1 Axes>"
            ]
          },
          "metadata": {
            "needs_background": "light"
          },
          "output_type": "display_data"
        }
      ],
      "source": [
        "sns.color_palette(\"rocket\", as_cmap=True)\n",
        "ax = sns.barplot(x='hour',y='ave spending',palette = \"rocket\", data=summer_pr)\n",
        "plt.title('The average spending of one ride in summer based on each hour')"
      ]
    },
    {
      "cell_type": "code",
      "execution_count": null,
      "id": "7961db07",
      "metadata": {
        "id": "7961db07",
        "outputId": "c84205e4-bf72-4e88-d648-325a31bc72cc"
      },
      "outputs": [
        {
          "data": {
            "text/plain": [
              "Text(0.5, 1.0, 'The average spending of one ride in winter based on each hour')"
            ]
          },
          "execution_count": 132,
          "metadata": {},
          "output_type": "execute_result"
        },
        {
          "data": {
            "image/png": "[encoded data removed]",
            "text/plain": [
              "<Figure size 432x288 with 1 Axes>"
            ]
          },
          "metadata": {
            "needs_background": "light"
          },
          "output_type": "display_data"
        }
      ],
      "source": [
        "sns.color_palette(\"mako\", as_cmap=True)\n",
        "ax = sns.barplot(x='hour',y='ave spending',palette = \"mako\", data=winter_pr)\n",
        "plt.title('The average spending of one ride in winter based on each hour')"
      ]
    },
    {
      "cell_type": "code",
      "execution_count": null,
      "id": "36431b6f",
      "metadata": {
        "id": "36431b6f"
      },
      "outputs": [],
      "source": [
        "geometry_summer = [Point(xy) for xy in zip(summer['Pickup Centroid Longitude'], summer['Pickup Centroid Latitude'])]\n",
        "gdf_summer = gpd.GeoDataFrame(summer, geometry=geometry_summer, crs=4326) \n",
        "geometry_winter = [Point(xy) for xy in zip(winter['Pickup Centroid Longitude'], winter['Pickup Centroid Latitude'])]\n",
        "gdf_winter = gpd.GeoDataFrame(winter, geometry=geometry_winter, crs=4326) "
      ]
    },
    {
      "cell_type": "markdown",
      "source": [
        "**Read the geojson file**\n",
        "\n",
        "Read the chicago.geojson file, and we will do some tasks."
      ],
      "metadata": {
        "id": "9uJ0d2zR-FCo"
      },
      "id": "9uJ0d2zR-FCo"
    },
    {
      "cell_type": "code",
      "execution_count": null,
      "id": "9846f4c6",
      "metadata": {
        "id": "9846f4c6"
      },
      "outputs": [],
      "source": [
        "chicago = gpd.read_file('chicago.geojson')"
      ]
    },
    {
      "cell_type": "code",
      "execution_count": null,
      "id": "c4d1583d",
      "metadata": {
        "id": "c4d1583d",
        "outputId": "4515703a-bbc0-4312-edb5-cafe74294a9c"
      },
      "outputs": [
        {
          "data": {
            "text/plain": [
              "<AxesSubplot:>"
            ]
          },
          "execution_count": 13,
          "metadata": {},
          "output_type": "execute_result"
        },
        {
          "data": {
            "image/png": "[encoded data removed]",
            "text/plain": [
              "<Figure size 432x288 with 1 Axes>"
            ]
          },
          "metadata": {
            "needs_background": "light"
          },
          "output_type": "display_data"
        }
      ],
      "source": [
        "gdf_summer.plot()"
      ]
    },
    {
      "cell_type": "code",
      "execution_count": null,
      "id": "3d75976e",
      "metadata": {
        "id": "3d75976e",
        "outputId": "58521396-6466-458d-eeab-d7eceb2b5a73"
      },
      "outputs": [
        {
          "data": {
            "text/plain": [
              "<AxesSubplot:ylabel='Frequency'>"
            ]
          },
          "execution_count": 14,
          "metadata": {},
          "output_type": "execute_result"
        },
        {
          "data": {
            "image/png": "[encoded data removed]",
            "text/plain": [
              "<Figure size 432x288 with 1 Axes>"
            ]
          },
          "metadata": {
            "needs_background": "light"
          },
          "output_type": "display_data"
        }
      ],
      "source": [
        "gdf_summer[gdf_summer['Trip Total']<100]['Trip Total'].plot(kind='hist',legend=True)\n",
        "#gdf_winter['area'] = gdf_winter.area\n",
        "#gdf_summer.plot(\"area\", legend=True)"
      ]
    },
    {
      "cell_type": "code",
      "execution_count": null,
      "id": "7e25cef0",
      "metadata": {
        "id": "7e25cef0",
        "outputId": "212bbe48-da5a-4dd0-a3d4-d4edb0b0c2c3"
      },
      "outputs": [
        {
          "data": {
            "text/plain": [
              "<AxesSubplot:ylabel='Frequency'>"
            ]
          },
          "execution_count": 15,
          "metadata": {},
          "output_type": "execute_result"
        },
        {
          "data": {
            "image/png": "[encoded data removed]",
            "text/plain": [
              "<Figure size 432x288 with 1 Axes>"
            ]
          },
          "metadata": {
            "needs_background": "light"
          },
          "output_type": "display_data"
        }
      ],
      "source": [
        "gdf_winter[gdf_winter['Trip Total']<150]['Trip Total'].plot(kind='hist', legend=True)"
      ]
    },
    {
      "cell_type": "code",
      "execution_count": null,
      "id": "df6f5c9e",
      "metadata": {
        "id": "df6f5c9e",
        "outputId": "25e852fb-7460-4d96-8b5b-6b063f193343"
      },
      "outputs": [
        {
          "data": {
            "text/plain": [
              "Trip ID                               object\n",
              "Taxi ID                               object\n",
              "Trip Start Timestamp          datetime64[ns]\n",
              "Trip End Timestamp            datetime64[ns]\n",
              "Trip Seconds                         float64\n",
              "Trip Miles                           float64\n",
              "Pickup Census Tract                  float64\n",
              "Dropoff Census Tract                 float64\n",
              "Pickup Community Area                float64\n",
              "Dropoff Community Area               float64\n",
              "Fare                                 float64\n",
              "Tips                                 float64\n",
              "Tolls                                float64\n",
              "Extras                               float64\n",
              "Trip Total                           float64\n",
              "Payment Type                          object\n",
              "Company                               object\n",
              "Pickup Centroid Latitude             float64\n",
              "Pickup Centroid Longitude            float64\n",
              "Pickup Centroid Location              object\n",
              "Dropoff Centroid Latitude            float64\n",
              "Dropoff Centroid Longitude           float64\n",
              "Dropoff Centroid  Location            object\n",
              "geometry                            geometry\n",
              "dtype: object"
            ]
          },
          "execution_count": 16,
          "metadata": {},
          "output_type": "execute_result"
        }
      ],
      "source": [
        "gdf_summer.dtypes"
      ]
    },
    {
      "cell_type": "markdown",
      "source": [
        "**Join the datasets**\n",
        "\n",
        "We will join the dataset summer and winter with Chicago separately, and we will use the new dataset to make graph and maps based on the zip code of each area."
      ],
      "metadata": {
        "id": "RuH2KDG2-atF"
      },
      "id": "RuH2KDG2-atF"
    },
    {
      "cell_type": "code",
      "execution_count": null,
      "id": "81704286",
      "metadata": {
        "id": "81704286"
      },
      "outputs": [],
      "source": [
        "joined_summer = gpd.sjoin(gdf_summer, chicago, predicate='within')\n",
        "joined_winter = gpd.sjoin(gdf_winter, chicago, predicate='within')"
      ]
    },
    {
      "cell_type": "code",
      "execution_count": null,
      "id": "da0599bf",
      "metadata": {
        "id": "da0599bf"
      },
      "outputs": [],
      "source": [
        "loop_summer=joined_summer.loc[joined_summer['zip'].isin(['60601','60602','60603','60604','60605','60606','60607','60616'])]\n",
        "loop_summer=loop_summer.groupby(loop_summer['Trip Start Timestamp'].dt.hour).mean()\n",
        "loop_summer=pd.DataFrame(loop_summer,columns=['Trip Total'])\n",
        "loop_summer['Area']='loop'\n",
        "loop_summer = loop_summer.iloc[[19,20,21,22,23]]\n",
        "loop_summer['hour']=list(range(19,24))\n",
        "\n",
        "loop_winter=joined_winter.loc[joined_winter['zip'].isin(['60601','60602','60603','60604','60605','60606','60607','60616'])]\n",
        "loop_winter=loop_winter.groupby(loop_winter['Trip Start Timestamp'].dt.hour).mean()\n",
        "loop_winter=pd.DataFrame(loop_winter,columns=['Trip Total'])\n",
        "loop_winter['Area']='loop'\n",
        "loop_winter = loop_winter.iloc[[0,1,2,3,4,5,6,7]]\n",
        "loop_winter['hour']=list(range(0,8))\n",
        "\n",
        "\n",
        "\n",
        "airport_summer=joined_summer.loc[joined_summer['zip'].isin(['60656','60666'])]\n",
        "airport_summer=airport_summer.groupby(airport_summer['Trip Start Timestamp'].dt.hour).mean()\n",
        "airport_summer=pd.DataFrame(airport_summer,columns=['Trip Total'])\n",
        "airport_summer['Area']='airport'\n",
        "airport_summer = airport_summer.iloc[[19,20,21,22,23]]\n",
        "airport_summer['hour']=list(range(19,24))\n",
        "\n",
        "airport_winter=joined_winter.loc[joined_winter['zip'].isin(['60656','60666'])]\n",
        "airport_winter=airport_winter.groupby(airport_winter['Trip Start Timestamp'].dt.hour).mean()\n",
        "airport_winter=pd.DataFrame(airport_winter,columns=['Trip Total'])\n",
        "airport_winter['Area']='airport'\n",
        "airport_winter = airport_winter.iloc[[0,1,2,3,4,5,6,7]]\n",
        "airport_winter['hour']=list(range(0,8))"
      ]
    },
    {
      "cell_type": "code",
      "execution_count": null,
      "id": "6c396474",
      "metadata": {
        "id": "6c396474",
        "outputId": "926bd05d-0085-4d93-b573-7b7990ecd890"
      },
      "outputs": [
        {
          "data": {
            "text/html": [
              "<div>\n",
              "<style scoped>\n",
              "    .dataframe tbody tr th:only-of-type {\n",
              "        vertical-align: middle;\n",
              "    }\n",
              "\n",
              "    .dataframe tbody tr th {\n",
              "        vertical-align: top;\n",
              "    }\n",
              "\n",
              "    .dataframe thead th {\n",
              "        text-align: right;\n",
              "    }\n",
              "</style>\n",
              "<table border=\"1\" class=\"dataframe\">\n",
              "  <thead>\n",
              "    <tr style=\"text-align: right;\">\n",
              "      <th></th>\n",
              "      <th>Trip Total</th>\n",
              "      <th>Area</th>\n",
              "      <th>hour</th>\n",
              "    </tr>\n",
              "    <tr>\n",
              "      <th>Trip Start Timestamp</th>\n",
              "      <th></th>\n",
              "      <th></th>\n",
              "      <th></th>\n",
              "    </tr>\n",
              "  </thead>\n",
              "  <tbody>\n",
              "    <tr>\n",
              "      <th>0</th>\n",
              "      <td>19.751152</td>\n",
              "      <td>airport</td>\n",
              "      <td>0</td>\n",
              "    </tr>\n",
              "    <tr>\n",
              "      <th>1</th>\n",
              "      <td>18.817050</td>\n",
              "      <td>airport</td>\n",
              "      <td>1</td>\n",
              "    </tr>\n",
              "    <tr>\n",
              "      <th>2</th>\n",
              "      <td>19.065484</td>\n",
              "      <td>airport</td>\n",
              "      <td>2</td>\n",
              "    </tr>\n",
              "    <tr>\n",
              "      <th>3</th>\n",
              "      <td>21.903371</td>\n",
              "      <td>airport</td>\n",
              "      <td>3</td>\n",
              "    </tr>\n",
              "    <tr>\n",
              "      <th>4</th>\n",
              "      <td>27.947836</td>\n",
              "      <td>airport</td>\n",
              "      <td>4</td>\n",
              "    </tr>\n",
              "    <tr>\n",
              "      <th>5</th>\n",
              "      <td>25.714145</td>\n",
              "      <td>airport</td>\n",
              "      <td>5</td>\n",
              "    </tr>\n",
              "    <tr>\n",
              "      <th>6</th>\n",
              "      <td>27.187080</td>\n",
              "      <td>airport</td>\n",
              "      <td>6</td>\n",
              "    </tr>\n",
              "    <tr>\n",
              "      <th>7</th>\n",
              "      <td>26.035906</td>\n",
              "      <td>airport</td>\n",
              "      <td>7</td>\n",
              "    </tr>\n",
              "  </tbody>\n",
              "</table>\n",
              "</div>"
            ],
            "text/plain": [
              "                      Trip Total     Area  hour\n",
              "Trip Start Timestamp                           \n",
              "0                      19.751152  airport     0\n",
              "1                      18.817050  airport     1\n",
              "2                      19.065484  airport     2\n",
              "3                      21.903371  airport     3\n",
              "4                      27.947836  airport     4\n",
              "5                      25.714145  airport     5\n",
              "6                      27.187080  airport     6\n",
              "7                      26.035906  airport     7"
            ]
          },
          "execution_count": 263,
          "metadata": {},
          "output_type": "execute_result"
        }
      ],
      "source": [
        "airport_winter.head(24)"
      ]
    },
    {
      "cell_type": "code",
      "execution_count": null,
      "id": "da0942e4",
      "metadata": {
        "id": "da0942e4"
      },
      "outputs": [],
      "source": [
        "winter=pd.concat([loop_winter,airport_winter])\n",
        "winter.columns=['Ave price', 'Area', 'hour']\n",
        "summer=pd.concat([loop_summer,airport_summer])\n",
        "summer.columns=['Ave price', 'Area', 'hour']"
      ]
    },
    {
      "cell_type": "code",
      "execution_count": null,
      "id": "c415359d",
      "metadata": {
        "id": "c415359d",
        "outputId": "aeef52a5-3a93-4d00-ca46-1026d5ea2e8d"
      },
      "outputs": [
        {
          "data": {
            "text/plain": [
              "<matplotlib.legend.Legend at 0x7fe095c338e0>"
            ]
          },
          "execution_count": 287,
          "metadata": {},
          "output_type": "execute_result"
        },
        {
          "data": {
            "image/png": "[encoded data removed]",
            "text/plain": [
              "<Figure size 432x288 with 1 Axes>"
            ]
          },
          "metadata": {
            "needs_background": "light"
          },
          "output_type": "display_data"
        }
      ],
      "source": [
        "sns.color_palette('viridis', as_cmap=True)\n",
        "ax1 = sns.barplot(x='hour', y='Ave price', palette = 'Paired', hue='Area', data=winter)\n",
        "plt.title(\"Loop vs Airport in winter after mid-night\")\n",
        "plt.legend(loc='center left', bbox_to_anchor=(1, 0.5), title = 'Area')"
      ]
    },
    {
      "cell_type": "code",
      "execution_count": null,
      "id": "a17bbf60",
      "metadata": {
        "id": "a17bbf60",
        "outputId": "6743a1b5-ad9c-483f-f2bb-26f4b58b5445"
      },
      "outputs": [
        {
          "data": {
            "text/plain": [
              "<matplotlib.legend.Legend at 0x7fe1103a1d60>"
            ]
          },
          "execution_count": 285,
          "metadata": {},
          "output_type": "execute_result"
        },
        {
          "data": {
            "image/png": "[encoded data removed]",
            "text/plain": [
              "<Figure size 432x288 with 1 Axes>"
            ]
          },
          "metadata": {
            "needs_background": "light"
          },
          "output_type": "display_data"
        }
      ],
      "source": [
        "sns.color_palette('viridis', as_cmap=True)\n",
        "ax1 = sns.barplot(x='hour', y='Ave price', palette = 'flare', hue='Area', data=summer)\n",
        "plt.title(\"Loop vs Airport in summer before mid-night\")\n",
        "plt.legend(loc='center left', bbox_to_anchor=(1, 0.5), title = 'Area')"
      ]
    },
    {
      "cell_type": "code",
      "execution_count": null,
      "id": "00aa3303",
      "metadata": {
        "id": "00aa3303",
        "outputId": "5405a6f4-0955-408f-ca38-a01ba4a27132"
      },
      "outputs": [
        {
          "data": {
            "text/plain": [
              "Trip ID                               object\n",
              "Taxi ID                               object\n",
              "Trip Start Timestamp          datetime64[ns]\n",
              "Trip End Timestamp            datetime64[ns]\n",
              "Trip Seconds                         float64\n",
              "Trip Miles                           float64\n",
              "Pickup Census Tract                  float64\n",
              "Dropoff Census Tract                 float64\n",
              "Pickup Community Area                float64\n",
              "Dropoff Community Area               float64\n",
              "Fare                                 float64\n",
              "Tips                                 float64\n",
              "Tolls                                float64\n",
              "Extras                               float64\n",
              "Trip Total                           float64\n",
              "Payment Type                          object\n",
              "Company                               object\n",
              "Pickup Centroid Latitude             float64\n",
              "Pickup Centroid Longitude            float64\n",
              "Pickup Centroid Location              object\n",
              "Dropoff Centroid Latitude            float64\n",
              "Dropoff Centroid Longitude           float64\n",
              "Dropoff Centroid  Location            object\n",
              "geometry                            geometry\n",
              "index_right                            int64\n",
              "objectid                              object\n",
              "shape_area                            object\n",
              "shape_len                             object\n",
              "zip                                   object\n",
              "dtype: object"
            ]
          },
          "execution_count": 286,
          "metadata": {},
          "output_type": "execute_result"
        }
      ],
      "source": [
        "joined_summer.dtypes"
      ]
    },
    {
      "cell_type": "code",
      "execution_count": null,
      "id": "673c5dcb",
      "metadata": {
        "id": "673c5dcb"
      },
      "outputs": [],
      "source": [
        "js = joined_summer.groupby(\"zip\").mean()\n",
        "js = js.filter(['Trip Total'])\n",
        "js = js.rename(columns={'geometry': 'Trip Total'})"
      ]
    },
    {
      "cell_type": "code",
      "execution_count": null,
      "id": "13d61c9f",
      "metadata": {
        "id": "13d61c9f"
      },
      "outputs": [],
      "source": [
        "jw = joined_winter.groupby(\"zip\").mean()\n",
        "jw = jw.filter(['Trip Total'])\n",
        "jw = jw.rename(columns={'geometry': 'Trip Total'})"
      ]
    },
    {
      "cell_type": "code",
      "execution_count": null,
      "id": "f69eae4e",
      "metadata": {
        "id": "f69eae4e",
        "outputId": "bd4c06f9-bc23-4366-c29b-28210d11ef73"
      },
      "outputs": [
        {
          "data": {
            "text/html": [
              "<div>\n",
              "<style scoped>\n",
              "    .dataframe tbody tr th:only-of-type {\n",
              "        vertical-align: middle;\n",
              "    }\n",
              "\n",
              "    .dataframe tbody tr th {\n",
              "        vertical-align: top;\n",
              "    }\n",
              "\n",
              "    .dataframe thead th {\n",
              "        text-align: right;\n",
              "    }\n",
              "</style>\n",
              "<table border=\"1\" class=\"dataframe\">\n",
              "  <thead>\n",
              "    <tr style=\"text-align: right;\">\n",
              "      <th></th>\n",
              "      <th>Trip Total</th>\n",
              "    </tr>\n",
              "    <tr>\n",
              "      <th>zip</th>\n",
              "      <th></th>\n",
              "    </tr>\n",
              "  </thead>\n",
              "  <tbody>\n",
              "    <tr>\n",
              "      <th>60601</th>\n",
              "      <td>14.995724</td>\n",
              "    </tr>\n",
              "    <tr>\n",
              "      <th>60603</th>\n",
              "      <td>12.361616</td>\n",
              "    </tr>\n",
              "    <tr>\n",
              "      <th>60604</th>\n",
              "      <td>19.095408</td>\n",
              "    </tr>\n",
              "    <tr>\n",
              "      <th>60605</th>\n",
              "      <td>17.448386</td>\n",
              "    </tr>\n",
              "    <tr>\n",
              "      <th>60607</th>\n",
              "      <td>19.990412</td>\n",
              "    </tr>\n",
              "  </tbody>\n",
              "</table>\n",
              "</div>"
            ],
            "text/plain": [
              "       Trip Total\n",
              "zip              \n",
              "60601   14.995724\n",
              "60603   12.361616\n",
              "60604   19.095408\n",
              "60605   17.448386\n",
              "60607   19.990412"
            ]
          },
          "execution_count": 22,
          "metadata": {},
          "output_type": "execute_result"
        }
      ],
      "source": [
        "jw.head()"
      ]
    },
    {
      "cell_type": "code",
      "execution_count": null,
      "id": "85375c93",
      "metadata": {
        "id": "85375c93"
      },
      "outputs": [],
      "source": [
        "merged_s = pd.merge(js, chicago, right_on='zip', left_index=True)"
      ]
    },
    {
      "cell_type": "code",
      "execution_count": null,
      "id": "1ee22233",
      "metadata": {
        "id": "1ee22233",
        "outputId": "6f1bacc5-b4be-4349-f8ee-c3d3a3da95ff"
      },
      "outputs": [
        {
          "data": {
            "text/plain": [
              "Trip Total     float64\n",
              "objectid        object\n",
              "shape_area      object\n",
              "shape_len       object\n",
              "zip             object\n",
              "geometry      geometry\n",
              "dtype: object"
            ]
          },
          "execution_count": 24,
          "metadata": {},
          "output_type": "execute_result"
        }
      ],
      "source": [
        "merged_s.dtypes"
      ]
    },
    {
      "cell_type": "code",
      "execution_count": null,
      "id": "f06bde39",
      "metadata": {
        "id": "f06bde39"
      },
      "outputs": [],
      "source": [
        "merged_s['objectid'] = merged_s['objectid'].astype(int)\n",
        "merged_s['shape_len'] = merged_s['shape_len'].astype(float)\n",
        "merged_s['shape_area'] = merged_s['shape_area'].astype(float)\n",
        "merged_s['zip'] = merged_s['zip'].astype(int)"
      ]
    },
    {
      "cell_type": "code",
      "execution_count": null,
      "id": "bd2d5b7f",
      "metadata": {
        "id": "bd2d5b7f",
        "outputId": "4bc553d8-9b59-487d-9a71-ff4be8fe7ff0"
      },
      "outputs": [
        {
          "data": {
            "text/html": [
              "<div>\n",
              "<style scoped>\n",
              "    .dataframe tbody tr th:only-of-type {\n",
              "        vertical-align: middle;\n",
              "    }\n",
              "\n",
              "    .dataframe tbody tr th {\n",
              "        vertical-align: top;\n",
              "    }\n",
              "\n",
              "    .dataframe thead th {\n",
              "        text-align: right;\n",
              "    }\n",
              "</style>\n",
              "<table border=\"1\" class=\"dataframe\">\n",
              "  <thead>\n",
              "    <tr style=\"text-align: right;\">\n",
              "      <th></th>\n",
              "      <th>Trip Total</th>\n",
              "      <th>objectid</th>\n",
              "      <th>shape_area</th>\n",
              "      <th>shape_len</th>\n",
              "      <th>zip</th>\n",
              "      <th>geometry</th>\n",
              "    </tr>\n",
              "  </thead>\n",
              "  <tbody>\n",
              "    <tr>\n",
              "      <th>41</th>\n",
              "      <td>14.570099</td>\n",
              "      <td>27</td>\n",
              "      <td>9.166246e+06</td>\n",
              "      <td>19804.582109</td>\n",
              "      <td>60601</td>\n",
              "      <td>MULTIPOLYGON (((-87.62271 41.88884, -87.62232 ...</td>\n",
              "    </tr>\n",
              "    <tr>\n",
              "      <th>33</th>\n",
              "      <td>12.482988</td>\n",
              "      <td>19</td>\n",
              "      <td>4.560229e+06</td>\n",
              "      <td>13672.682289</td>\n",
              "      <td>60603</td>\n",
              "      <td>MULTIPOLYGON (((-87.61633 41.88211, -87.61635 ...</td>\n",
              "    </tr>\n",
              "    <tr>\n",
              "      <th>28</th>\n",
              "      <td>18.493453</td>\n",
              "      <td>48</td>\n",
              "      <td>4.294902e+06</td>\n",
              "      <td>12245.808402</td>\n",
              "      <td>60604</td>\n",
              "      <td>MULTIPOLYGON (((-87.63376 41.87924, -87.63375 ...</td>\n",
              "    </tr>\n",
              "    <tr>\n",
              "      <th>34</th>\n",
              "      <td>18.621620</td>\n",
              "      <td>20</td>\n",
              "      <td>3.630128e+07</td>\n",
              "      <td>37973.346105</td>\n",
              "      <td>60605</td>\n",
              "      <td>MULTIPOLYGON (((-87.62064 41.87705, -87.61740 ...</td>\n",
              "    </tr>\n",
              "    <tr>\n",
              "      <th>43</th>\n",
              "      <td>19.503295</td>\n",
              "      <td>29</td>\n",
              "      <td>6.466429e+07</td>\n",
              "      <td>39143.639517</td>\n",
              "      <td>60607</td>\n",
              "      <td>MULTIPOLYGON (((-87.63962 41.87677, -87.63928 ...</td>\n",
              "    </tr>\n",
              "    <tr>\n",
              "      <th>42</th>\n",
              "      <td>22.237512</td>\n",
              "      <td>28</td>\n",
              "      <td>1.765055e+08</td>\n",
              "      <td>53169.217720</td>\n",
              "      <td>60608</td>\n",
              "      <td>MULTIPOLYGON (((-87.64671 41.85991, -87.64670 ...</td>\n",
              "    </tr>\n",
              "    <tr>\n",
              "      <th>36</th>\n",
              "      <td>24.130779</td>\n",
              "      <td>22</td>\n",
              "      <td>2.134903e+08</td>\n",
              "      <td>58540.920413</td>\n",
              "      <td>60609</td>\n",
              "      <td>MULTIPOLYGON (((-87.62665 41.83091, -87.62664 ...</td>\n",
              "    </tr>\n",
              "    <tr>\n",
              "      <th>53</th>\n",
              "      <td>17.274088</td>\n",
              "      <td>54</td>\n",
              "      <td>3.159816e+07</td>\n",
              "      <td>24208.698879</td>\n",
              "      <td>60610</td>\n",
              "      <td>MULTIPOLYGON (((-87.62820 41.89668, -87.62820 ...</td>\n",
              "    </tr>\n",
              "    <tr>\n",
              "      <th>5</th>\n",
              "      <td>14.833240</td>\n",
              "      <td>38</td>\n",
              "      <td>2.350606e+07</td>\n",
              "      <td>34689.350631</td>\n",
              "      <td>60611</td>\n",
              "      <td>MULTIPOLYGON (((-87.61401 41.89354, -87.61369 ...</td>\n",
              "    </tr>\n",
              "    <tr>\n",
              "      <th>27</th>\n",
              "      <td>20.488403</td>\n",
              "      <td>16</td>\n",
              "      <td>1.067189e+08</td>\n",
              "      <td>42663.196676</td>\n",
              "      <td>60612</td>\n",
              "      <td>MULTIPOLYGON (((-87.67704 41.89564, -87.67704 ...</td>\n",
              "    </tr>\n",
              "    <tr>\n",
              "      <th>52</th>\n",
              "      <td>22.973525</td>\n",
              "      <td>53</td>\n",
              "      <td>5.399089e+07</td>\n",
              "      <td>31196.320656</td>\n",
              "      <td>60613</td>\n",
              "      <td>MULTIPOLYGON (((-87.63894 41.95009, -87.64283 ...</td>\n",
              "    </tr>\n",
              "    <tr>\n",
              "      <th>15</th>\n",
              "      <td>18.338089</td>\n",
              "      <td>32</td>\n",
              "      <td>9.446063e+07</td>\n",
              "      <td>50587.347380</td>\n",
              "      <td>60614</td>\n",
              "      <td>MULTIPOLYGON (((-87.63138 41.93297, -87.63138 ...</td>\n",
              "    </tr>\n",
              "    <tr>\n",
              "      <th>9</th>\n",
              "      <td>26.020891</td>\n",
              "      <td>8</td>\n",
              "      <td>6.656545e+07</td>\n",
              "      <td>38321.313769</td>\n",
              "      <td>60615</td>\n",
              "      <td>MULTIPOLYGON (((-87.58103 41.80421, -87.58089 ...</td>\n",
              "    </tr>\n",
              "    <tr>\n",
              "      <th>39</th>\n",
              "      <td>20.957549</td>\n",
              "      <td>25</td>\n",
              "      <td>1.096671e+08</td>\n",
              "      <td>45823.539838</td>\n",
              "      <td>60616</td>\n",
              "      <td>MULTIPOLYGON (((-87.60271 41.83135, -87.60586 ...</td>\n",
              "    </tr>\n",
              "    <tr>\n",
              "      <th>24</th>\n",
              "      <td>30.371006</td>\n",
              "      <td>12</td>\n",
              "      <td>4.528374e+08</td>\n",
              "      <td>102528.036078</td>\n",
              "      <td>60617</td>\n",
              "      <td>MULTIPOLYGON (((-87.54304 41.75192, -87.54303 ...</td>\n",
              "    </tr>\n",
              "    <tr>\n",
              "      <th>38</th>\n",
              "      <td>21.665292</td>\n",
              "      <td>24</td>\n",
              "      <td>1.412359e+08</td>\n",
              "      <td>47847.080382</td>\n",
              "      <td>60618</td>\n",
              "      <td>MULTIPOLYGON (((-87.67855 41.94686, -87.67855 ...</td>\n",
              "    </tr>\n",
              "    <tr>\n",
              "      <th>60</th>\n",
              "      <td>27.523074</td>\n",
              "      <td>61</td>\n",
              "      <td>1.678720e+08</td>\n",
              "      <td>53040.907078</td>\n",
              "      <td>60619</td>\n",
              "      <td>MULTIPOLYGON (((-87.58592 41.75150, -87.58592 ...</td>\n",
              "    </tr>\n",
              "    <tr>\n",
              "      <th>58</th>\n",
              "      <td>27.518519</td>\n",
              "      <td>59</td>\n",
              "      <td>2.116961e+08</td>\n",
              "      <td>58466.160298</td>\n",
              "      <td>60620</td>\n",
              "      <td>MULTIPOLYGON (((-87.62373 41.72167, -87.62388 ...</td>\n",
              "    </tr>\n",
              "    <tr>\n",
              "      <th>10</th>\n",
              "      <td>27.140403</td>\n",
              "      <td>9</td>\n",
              "      <td>1.047468e+08</td>\n",
              "      <td>42299.920391</td>\n",
              "      <td>60621</td>\n",
              "      <td>MULTIPOLYGON (((-87.62491 41.76545, -87.62490 ...</td>\n",
              "    </tr>\n",
              "    <tr>\n",
              "      <th>3</th>\n",
              "      <td>19.629029</td>\n",
              "      <td>36</td>\n",
              "      <td>7.085383e+07</td>\n",
              "      <td>42527.989679</td>\n",
              "      <td>60622</td>\n",
              "      <td>MULTIPOLYGON (((-87.66707 41.88885, -87.66707 ...</td>\n",
              "    </tr>\n",
              "    <tr>\n",
              "      <th>56</th>\n",
              "      <td>27.623990</td>\n",
              "      <td>57</td>\n",
              "      <td>1.552855e+08</td>\n",
              "      <td>53406.915617</td>\n",
              "      <td>60623</td>\n",
              "      <td>MULTIPOLYGON (((-87.69479 41.83008, -87.69486 ...</td>\n",
              "    </tr>\n",
              "    <tr>\n",
              "      <th>29</th>\n",
              "      <td>29.216969</td>\n",
              "      <td>17</td>\n",
              "      <td>9.941812e+07</td>\n",
              "      <td>40394.410008</td>\n",
              "      <td>60624</td>\n",
              "      <td>MULTIPOLYGON (((-87.70567 41.86641, -87.70588 ...</td>\n",
              "    </tr>\n",
              "    <tr>\n",
              "      <th>19</th>\n",
              "      <td>19.114757</td>\n",
              "      <td>5</td>\n",
              "      <td>1.058309e+08</td>\n",
              "      <td>42524.110478</td>\n",
              "      <td>60625</td>\n",
              "      <td>MULTIPOLYGON (((-87.67896 41.96146, -87.67913 ...</td>\n",
              "    </tr>\n",
              "    <tr>\n",
              "      <th>8</th>\n",
              "      <td>22.550808</td>\n",
              "      <td>1</td>\n",
              "      <td>4.917058e+07</td>\n",
              "      <td>33983.913306</td>\n",
              "      <td>60626</td>\n",
              "      <td>MULTIPOLYGON (((-87.66421 42.02126, -87.66419 ...</td>\n",
              "    </tr>\n",
              "    <tr>\n",
              "      <th>18</th>\n",
              "      <td>30.989090</td>\n",
              "      <td>43</td>\n",
              "      <td>3.452417e+08</td>\n",
              "      <td>83748.991990</td>\n",
              "      <td>60628</td>\n",
              "      <td>MULTIPOLYGON (((-87.58515 41.72160, -87.58518 ...</td>\n",
              "    </tr>\n",
              "    <tr>\n",
              "      <th>57</th>\n",
              "      <td>29.761556</td>\n",
              "      <td>58</td>\n",
              "      <td>2.111148e+08</td>\n",
              "      <td>58701.325375</td>\n",
              "      <td>60629</td>\n",
              "      <td>MULTIPOLYGON (((-87.68306 41.75786, -87.68306 ...</td>\n",
              "    </tr>\n",
              "    <tr>\n",
              "      <th>47</th>\n",
              "      <td>24.603194</td>\n",
              "      <td>45</td>\n",
              "      <td>1.310738e+08</td>\n",
              "      <td>49198.940283</td>\n",
              "      <td>60630</td>\n",
              "      <td>MULTIPOLYGON (((-87.75244 41.98323, -87.75148 ...</td>\n",
              "    </tr>\n",
              "    <tr>\n",
              "      <th>16</th>\n",
              "      <td>31.118719</td>\n",
              "      <td>41</td>\n",
              "      <td>1.071176e+08</td>\n",
              "      <td>68289.751577</td>\n",
              "      <td>60631</td>\n",
              "      <td>MULTIPOLYGON (((-87.85665 41.98443, -87.85664 ...</td>\n",
              "    </tr>\n",
              "    <tr>\n",
              "      <th>55</th>\n",
              "      <td>27.506557</td>\n",
              "      <td>56</td>\n",
              "      <td>2.117553e+08</td>\n",
              "      <td>63253.238669</td>\n",
              "      <td>60632</td>\n",
              "      <td>MULTIPOLYGON (((-87.69479 41.83008, -87.69472 ...</td>\n",
              "    </tr>\n",
              "    <tr>\n",
              "      <th>25</th>\n",
              "      <td>38.977870</td>\n",
              "      <td>14</td>\n",
              "      <td>1.875267e+08</td>\n",
              "      <td>59703.215815</td>\n",
              "      <td>60633</td>\n",
              "      <td>MULTIPOLYGON (((-87.60045 41.67432, -87.58363 ...</td>\n",
              "    </tr>\n",
              "    <tr>\n",
              "      <th>51</th>\n",
              "      <td>26.704238</td>\n",
              "      <td>52</td>\n",
              "      <td>1.940626e+08</td>\n",
              "      <td>77647.318007</td>\n",
              "      <td>60634</td>\n",
              "      <td>MULTIPOLYGON (((-87.76625 41.93128, -87.76661 ...</td>\n",
              "    </tr>\n",
              "    <tr>\n",
              "      <th>22</th>\n",
              "      <td>27.065893</td>\n",
              "      <td>10</td>\n",
              "      <td>1.041147e+08</td>\n",
              "      <td>42448.282844</td>\n",
              "      <td>60636</td>\n",
              "      <td>MULTIPOLYGON (((-87.65392 41.75759, -87.65878 ...</td>\n",
              "    </tr>\n",
              "    <tr>\n",
              "      <th>59</th>\n",
              "      <td>24.268454</td>\n",
              "      <td>60</td>\n",
              "      <td>1.254243e+08</td>\n",
              "      <td>52377.854541</td>\n",
              "      <td>60637</td>\n",
              "      <td>MULTIPOLYGON (((-87.57691 41.79511, -87.57700 ...</td>\n",
              "    </tr>\n",
              "    <tr>\n",
              "      <th>6</th>\n",
              "      <td>52.805341</td>\n",
              "      <td>39</td>\n",
              "      <td>1.661663e+08</td>\n",
              "      <td>67710.646739</td>\n",
              "      <td>60638</td>\n",
              "      <td>MULTIPOLYGON (((-87.74347 41.81876, -87.74346 ...</td>\n",
              "    </tr>\n",
              "    <tr>\n",
              "      <th>1</th>\n",
              "      <td>23.781767</td>\n",
              "      <td>34</td>\n",
              "      <td>1.274761e+08</td>\n",
              "      <td>48103.782721</td>\n",
              "      <td>60639</td>\n",
              "      <td>MULTIPOLYGON (((-87.72683 41.92265, -87.72693 ...</td>\n",
              "    </tr>\n",
              "    <tr>\n",
              "      <th>14</th>\n",
              "      <td>18.231720</td>\n",
              "      <td>4</td>\n",
              "      <td>7.730525e+07</td>\n",
              "      <td>48985.871304</td>\n",
              "      <td>60640</td>\n",
              "      <td>MULTIPOLYGON (((-87.65054 41.98383, -87.65058 ...</td>\n",
              "    </tr>\n",
              "    <tr>\n",
              "      <th>20</th>\n",
              "      <td>22.769438</td>\n",
              "      <td>6</td>\n",
              "      <td>1.139033e+08</td>\n",
              "      <td>42682.982947</td>\n",
              "      <td>60641</td>\n",
              "      <td>MULTIPOLYGON (((-87.72698 41.93179, -87.72721 ...</td>\n",
              "    </tr>\n",
              "    <tr>\n",
              "      <th>48</th>\n",
              "      <td>16.703011</td>\n",
              "      <td>46</td>\n",
              "      <td>4.796149e+07</td>\n",
              "      <td>31296.227144</td>\n",
              "      <td>60642</td>\n",
              "      <td>MULTIPOLYGON (((-87.66707 41.88885, -87.66709 ...</td>\n",
              "    </tr>\n",
              "    <tr>\n",
              "      <th>12</th>\n",
              "      <td>29.970367</td>\n",
              "      <td>13</td>\n",
              "      <td>1.830131e+08</td>\n",
              "      <td>59337.807440</td>\n",
              "      <td>60643</td>\n",
              "      <td>MULTIPOLYGON (((-87.64191 41.67781, -87.64185 ...</td>\n",
              "    </tr>\n",
              "    <tr>\n",
              "      <th>26</th>\n",
              "      <td>29.970367</td>\n",
              "      <td>15</td>\n",
              "      <td>3.136688e+06</td>\n",
              "      <td>7175.092168</td>\n",
              "      <td>60643</td>\n",
              "      <td>MULTIPOLYGON (((-87.64125 41.65810, -87.64143 ...</td>\n",
              "    </tr>\n",
              "    <tr>\n",
              "      <th>31</th>\n",
              "      <td>30.408995</td>\n",
              "      <td>18</td>\n",
              "      <td>9.909222e+07</td>\n",
              "      <td>40030.838529</td>\n",
              "      <td>60644</td>\n",
              "      <td>MULTIPOLYGON (((-87.73998 41.86596, -87.73999 ...</td>\n",
              "    </tr>\n",
              "    <tr>\n",
              "      <th>11</th>\n",
              "      <td>22.421155</td>\n",
              "      <td>2</td>\n",
              "      <td>6.218147e+07</td>\n",
              "      <td>32075.599421</td>\n",
              "      <td>60645</td>\n",
              "      <td>MULTIPOLYGON (((-87.68838 42.01952, -87.68789 ...</td>\n",
              "    </tr>\n",
              "    <tr>\n",
              "      <th>17</th>\n",
              "      <td>26.920129</td>\n",
              "      <td>42</td>\n",
              "      <td>1.178901e+08</td>\n",
              "      <td>62633.139821</td>\n",
              "      <td>60646</td>\n",
              "      <td>MULTIPOLYGON (((-87.79065 42.00040, -87.79054 ...</td>\n",
              "    </tr>\n",
              "    <tr>\n",
              "      <th>0</th>\n",
              "      <td>22.000618</td>\n",
              "      <td>33</td>\n",
              "      <td>1.060523e+08</td>\n",
              "      <td>42720.044406</td>\n",
              "      <td>60647</td>\n",
              "      <td>MULTIPOLYGON (((-87.67762 41.91776, -87.67761 ...</td>\n",
              "    </tr>\n",
              "    <tr>\n",
              "      <th>23</th>\n",
              "      <td>27.246086</td>\n",
              "      <td>11</td>\n",
              "      <td>8.052608e+07</td>\n",
              "      <td>55092.863293</td>\n",
              "      <td>60649</td>\n",
              "      <td>MULTIPOLYGON (((-87.54328 41.75205, -87.54584 ...</td>\n",
              "    </tr>\n",
              "    <tr>\n",
              "      <th>4</th>\n",
              "      <td>24.272908</td>\n",
              "      <td>37</td>\n",
              "      <td>9.903962e+07</td>\n",
              "      <td>47970.140153</td>\n",
              "      <td>60651</td>\n",
              "      <td>MULTIPOLYGON (((-87.70656 41.89555, -87.70672 ...</td>\n",
              "    </tr>\n",
              "    <tr>\n",
              "      <th>7</th>\n",
              "      <td>29.189682</td>\n",
              "      <td>40</td>\n",
              "      <td>1.283098e+08</td>\n",
              "      <td>48187.949880</td>\n",
              "      <td>60652</td>\n",
              "      <td>MULTIPOLYGON (((-87.68305 41.75741, -87.68304 ...</td>\n",
              "    </tr>\n",
              "    <tr>\n",
              "      <th>35</th>\n",
              "      <td>22.640728</td>\n",
              "      <td>21</td>\n",
              "      <td>6.775983e+07</td>\n",
              "      <td>34316.361543</td>\n",
              "      <td>60653</td>\n",
              "      <td>MULTIPOLYGON (((-87.60267 41.83123, -87.60259 ...</td>\n",
              "    </tr>\n",
              "    <tr>\n",
              "      <th>54</th>\n",
              "      <td>14.363074</td>\n",
              "      <td>55</td>\n",
              "      <td>1.586996e+07</td>\n",
              "      <td>17119.698877</td>\n",
              "      <td>60654</td>\n",
              "      <td>MULTIPOLYGON (((-87.62820 41.89668, -87.62819 ...</td>\n",
              "    </tr>\n",
              "    <tr>\n",
              "      <th>32</th>\n",
              "      <td>32.923857</td>\n",
              "      <td>49</td>\n",
              "      <td>1.153801e+08</td>\n",
              "      <td>77392.322613</td>\n",
              "      <td>60655</td>\n",
              "      <td>MULTIPOLYGON (((-87.68184 41.71366, -87.68183 ...</td>\n",
              "    </tr>\n",
              "    <tr>\n",
              "      <th>30</th>\n",
              "      <td>33.625000</td>\n",
              "      <td>47</td>\n",
              "      <td>8.951588e+07</td>\n",
              "      <td>84430.973216</td>\n",
              "      <td>60656</td>\n",
              "      <td>MULTIPOLYGON (((-87.87596 41.97299, -87.87589 ...</td>\n",
              "    </tr>\n",
              "    <tr>\n",
              "      <th>21</th>\n",
              "      <td>18.404990</td>\n",
              "      <td>7</td>\n",
              "      <td>6.354776e+07</td>\n",
              "      <td>45646.488028</td>\n",
              "      <td>60657</td>\n",
              "      <td>MULTIPOLYGON (((-87.63799 41.94816, -87.63791 ...</td>\n",
              "    </tr>\n",
              "    <tr>\n",
              "      <th>49</th>\n",
              "      <td>21.803350</td>\n",
              "      <td>50</td>\n",
              "      <td>6.969841e+07</td>\n",
              "      <td>38931.526661</td>\n",
              "      <td>60659</td>\n",
              "      <td>MULTIPOLYGON (((-87.67946 41.98322, -87.68945 ...</td>\n",
              "    </tr>\n",
              "    <tr>\n",
              "      <th>13</th>\n",
              "      <td>19.364097</td>\n",
              "      <td>3</td>\n",
              "      <td>3.798439e+07</td>\n",
              "      <td>27307.813836</td>\n",
              "      <td>60660</td>\n",
              "      <td>MULTIPOLYGON (((-87.65460 41.99824, -87.65453 ...</td>\n",
              "    </tr>\n",
              "    <tr>\n",
              "      <th>44</th>\n",
              "      <td>11.719714</td>\n",
              "      <td>30</td>\n",
              "      <td>9.357756e+06</td>\n",
              "      <td>13132.565490</td>\n",
              "      <td>60661</td>\n",
              "      <td>MULTIPOLYGON (((-87.63997 41.88905, -87.63999 ...</td>\n",
              "    </tr>\n",
              "    <tr>\n",
              "      <th>37</th>\n",
              "      <td>54.666438</td>\n",
              "      <td>23</td>\n",
              "      <td>2.820851e+08</td>\n",
              "      <td>101876.553747</td>\n",
              "      <td>60666</td>\n",
              "      <td>MULTIPOLYGON (((-87.89598 42.00578, -87.89598 ...</td>\n",
              "    </tr>\n",
              "    <tr>\n",
              "      <th>2</th>\n",
              "      <td>26.805882</td>\n",
              "      <td>35</td>\n",
              "      <td>4.506904e+07</td>\n",
              "      <td>27288.609612</td>\n",
              "      <td>60707</td>\n",
              "      <td>MULTIPOLYGON (((-87.78500 41.90915, -87.78531 ...</td>\n",
              "    </tr>\n",
              "    <tr>\n",
              "      <th>50</th>\n",
              "      <td>26.805882</td>\n",
              "      <td>51</td>\n",
              "      <td>3.450671e+06</td>\n",
              "      <td>7909.890407</td>\n",
              "      <td>60707</td>\n",
              "      <td>MULTIPOLYGON (((-87.80662 41.93451, -87.80686 ...</td>\n",
              "    </tr>\n",
              "  </tbody>\n",
              "</table>\n",
              "</div>"
            ],
            "text/plain": [
              "    Trip Total  objectid    shape_area      shape_len    zip  \\\n",
              "41   14.570099        27  9.166246e+06   19804.582109  60601   \n",
              "33   12.482988        19  4.560229e+06   13672.682289  60603   \n",
              "28   18.493453        48  4.294902e+06   12245.808402  60604   \n",
              "34   18.621620        20  3.630128e+07   37973.346105  60605   \n",
              "43   19.503295        29  6.466429e+07   39143.639517  60607   \n",
              "42   22.237512        28  1.765055e+08   53169.217720  60608   \n",
              "36   24.130779        22  2.134903e+08   58540.920413  60609   \n",
              "53   17.274088        54  3.159816e+07   24208.698879  60610   \n",
              "5    14.833240        38  2.350606e+07   34689.350631  60611   \n",
              "27   20.488403        16  1.067189e+08   42663.196676  60612   \n",
              "52   22.973525        53  5.399089e+07   31196.320656  60613   \n",
              "15   18.338089        32  9.446063e+07   50587.347380  60614   \n",
              "9    26.020891         8  6.656545e+07   38321.313769  60615   \n",
              "39   20.957549        25  1.096671e+08   45823.539838  60616   \n",
              "24   30.371006        12  4.528374e+08  102528.036078  60617   \n",
              "38   21.665292        24  1.412359e+08   47847.080382  60618   \n",
              "60   27.523074        61  1.678720e+08   53040.907078  60619   \n",
              "58   27.518519        59  2.116961e+08   58466.160298  60620   \n",
              "10   27.140403         9  1.047468e+08   42299.920391  60621   \n",
              "3    19.629029        36  7.085383e+07   42527.989679  60622   \n",
              "56   27.623990        57  1.552855e+08   53406.915617  60623   \n",
              "29   29.216969        17  9.941812e+07   40394.410008  60624   \n",
              "19   19.114757         5  1.058309e+08   42524.110478  60625   \n",
              "8    22.550808         1  4.917058e+07   33983.913306  60626   \n",
              "18   30.989090        43  3.452417e+08   83748.991990  60628   \n",
              "57   29.761556        58  2.111148e+08   58701.325375  60629   \n",
              "47   24.603194        45  1.310738e+08   49198.940283  60630   \n",
              "16   31.118719        41  1.071176e+08   68289.751577  60631   \n",
              "55   27.506557        56  2.117553e+08   63253.238669  60632   \n",
              "25   38.977870        14  1.875267e+08   59703.215815  60633   \n",
              "51   26.704238        52  1.940626e+08   77647.318007  60634   \n",
              "22   27.065893        10  1.041147e+08   42448.282844  60636   \n",
              "59   24.268454        60  1.254243e+08   52377.854541  60637   \n",
              "6    52.805341        39  1.661663e+08   67710.646739  60638   \n",
              "1    23.781767        34  1.274761e+08   48103.782721  60639   \n",
              "14   18.231720         4  7.730525e+07   48985.871304  60640   \n",
              "20   22.769438         6  1.139033e+08   42682.982947  60641   \n",
              "48   16.703011        46  4.796149e+07   31296.227144  60642   \n",
              "12   29.970367        13  1.830131e+08   59337.807440  60643   \n",
              "26   29.970367        15  3.136688e+06    7175.092168  60643   \n",
              "31   30.408995        18  9.909222e+07   40030.838529  60644   \n",
              "11   22.421155         2  6.218147e+07   32075.599421  60645   \n",
              "17   26.920129        42  1.178901e+08   62633.139821  60646   \n",
              "0    22.000618        33  1.060523e+08   42720.044406  60647   \n",
              "23   27.246086        11  8.052608e+07   55092.863293  60649   \n",
              "4    24.272908        37  9.903962e+07   47970.140153  60651   \n",
              "7    29.189682        40  1.283098e+08   48187.949880  60652   \n",
              "35   22.640728        21  6.775983e+07   34316.361543  60653   \n",
              "54   14.363074        55  1.586996e+07   17119.698877  60654   \n",
              "32   32.923857        49  1.153801e+08   77392.322613  60655   \n",
              "30   33.625000        47  8.951588e+07   84430.973216  60656   \n",
              "21   18.404990         7  6.354776e+07   45646.488028  60657   \n",
              "49   21.803350        50  6.969841e+07   38931.526661  60659   \n",
              "13   19.364097         3  3.798439e+07   27307.813836  60660   \n",
              "44   11.719714        30  9.357756e+06   13132.565490  60661   \n",
              "37   54.666438        23  2.820851e+08  101876.553747  60666   \n",
              "2    26.805882        35  4.506904e+07   27288.609612  60707   \n",
              "50   26.805882        51  3.450671e+06    7909.890407  60707   \n",
              "\n",
              "                                             geometry  \n",
              "41  MULTIPOLYGON (((-87.62271 41.88884, -87.62232 ...  \n",
              "33  MULTIPOLYGON (((-87.61633 41.88211, -87.61635 ...  \n",
              "28  MULTIPOLYGON (((-87.63376 41.87924, -87.63375 ...  \n",
              "34  MULTIPOLYGON (((-87.62064 41.87705, -87.61740 ...  \n",
              "43  MULTIPOLYGON (((-87.63962 41.87677, -87.63928 ...  \n",
              "42  MULTIPOLYGON (((-87.64671 41.85991, -87.64670 ...  \n",
              "36  MULTIPOLYGON (((-87.62665 41.83091, -87.62664 ...  \n",
              "53  MULTIPOLYGON (((-87.62820 41.89668, -87.62820 ...  \n",
              "5   MULTIPOLYGON (((-87.61401 41.89354, -87.61369 ...  \n",
              "27  MULTIPOLYGON (((-87.67704 41.89564, -87.67704 ...  \n",
              "52  MULTIPOLYGON (((-87.63894 41.95009, -87.64283 ...  \n",
              "15  MULTIPOLYGON (((-87.63138 41.93297, -87.63138 ...  \n",
              "9   MULTIPOLYGON (((-87.58103 41.80421, -87.58089 ...  \n",
              "39  MULTIPOLYGON (((-87.60271 41.83135, -87.60586 ...  \n",
              "24  MULTIPOLYGON (((-87.54304 41.75192, -87.54303 ...  \n",
              "38  MULTIPOLYGON (((-87.67855 41.94686, -87.67855 ...  \n",
              "60  MULTIPOLYGON (((-87.58592 41.75150, -87.58592 ...  \n",
              "58  MULTIPOLYGON (((-87.62373 41.72167, -87.62388 ...  \n",
              "10  MULTIPOLYGON (((-87.62491 41.76545, -87.62490 ...  \n",
              "3   MULTIPOLYGON (((-87.66707 41.88885, -87.66707 ...  \n",
              "56  MULTIPOLYGON (((-87.69479 41.83008, -87.69486 ...  \n",
              "29  MULTIPOLYGON (((-87.70567 41.86641, -87.70588 ...  \n",
              "19  MULTIPOLYGON (((-87.67896 41.96146, -87.67913 ...  \n",
              "8   MULTIPOLYGON (((-87.66421 42.02126, -87.66419 ...  \n",
              "18  MULTIPOLYGON (((-87.58515 41.72160, -87.58518 ...  \n",
              "57  MULTIPOLYGON (((-87.68306 41.75786, -87.68306 ...  \n",
              "47  MULTIPOLYGON (((-87.75244 41.98323, -87.75148 ...  \n",
              "16  MULTIPOLYGON (((-87.85665 41.98443, -87.85664 ...  \n",
              "55  MULTIPOLYGON (((-87.69479 41.83008, -87.69472 ...  \n",
              "25  MULTIPOLYGON (((-87.60045 41.67432, -87.58363 ...  \n",
              "51  MULTIPOLYGON (((-87.76625 41.93128, -87.76661 ...  \n",
              "22  MULTIPOLYGON (((-87.65392 41.75759, -87.65878 ...  \n",
              "59  MULTIPOLYGON (((-87.57691 41.79511, -87.57700 ...  \n",
              "6   MULTIPOLYGON (((-87.74347 41.81876, -87.74346 ...  \n",
              "1   MULTIPOLYGON (((-87.72683 41.92265, -87.72693 ...  \n",
              "14  MULTIPOLYGON (((-87.65054 41.98383, -87.65058 ...  \n",
              "20  MULTIPOLYGON (((-87.72698 41.93179, -87.72721 ...  \n",
              "48  MULTIPOLYGON (((-87.66707 41.88885, -87.66709 ...  \n",
              "12  MULTIPOLYGON (((-87.64191 41.67781, -87.64185 ...  \n",
              "26  MULTIPOLYGON (((-87.64125 41.65810, -87.64143 ...  \n",
              "31  MULTIPOLYGON (((-87.73998 41.86596, -87.73999 ...  \n",
              "11  MULTIPOLYGON (((-87.68838 42.01952, -87.68789 ...  \n",
              "17  MULTIPOLYGON (((-87.79065 42.00040, -87.79054 ...  \n",
              "0   MULTIPOLYGON (((-87.67762 41.91776, -87.67761 ...  \n",
              "23  MULTIPOLYGON (((-87.54328 41.75205, -87.54584 ...  \n",
              "4   MULTIPOLYGON (((-87.70656 41.89555, -87.70672 ...  \n",
              "7   MULTIPOLYGON (((-87.68305 41.75741, -87.68304 ...  \n",
              "35  MULTIPOLYGON (((-87.60267 41.83123, -87.60259 ...  \n",
              "54  MULTIPOLYGON (((-87.62820 41.89668, -87.62819 ...  \n",
              "32  MULTIPOLYGON (((-87.68184 41.71366, -87.68183 ...  \n",
              "30  MULTIPOLYGON (((-87.87596 41.97299, -87.87589 ...  \n",
              "21  MULTIPOLYGON (((-87.63799 41.94816, -87.63791 ...  \n",
              "49  MULTIPOLYGON (((-87.67946 41.98322, -87.68945 ...  \n",
              "13  MULTIPOLYGON (((-87.65460 41.99824, -87.65453 ...  \n",
              "44  MULTIPOLYGON (((-87.63997 41.88905, -87.63999 ...  \n",
              "37  MULTIPOLYGON (((-87.89598 42.00578, -87.89598 ...  \n",
              "2   MULTIPOLYGON (((-87.78500 41.90915, -87.78531 ...  \n",
              "50  MULTIPOLYGON (((-87.80662 41.93451, -87.80686 ...  "
            ]
          },
          "execution_count": 272,
          "metadata": {},
          "output_type": "execute_result"
        }
      ],
      "source": [
        "merged_s.head(150)"
      ]
    },
    {
      "cell_type": "code",
      "execution_count": null,
      "id": "4d46adad",
      "metadata": {
        "id": "4d46adad",
        "outputId": "e010b829-1569-47bf-bde5-b52060804c01"
      },
      "outputs": [
        {
          "data": {
            "text/plain": [
              "<AxesSubplot:>"
            ]
          },
          "execution_count": 288,
          "metadata": {},
          "output_type": "execute_result"
        },
        {
          "data": {
            "image/png": "[encoded data removed]",
            "text/plain": [
              "<Figure size 504x504 with 2 Axes>"
            ]
          },
          "metadata": {
            "needs_background": "light"
          },
          "output_type": "display_data"
        }
      ],
      "source": [
        "merged_s = merged_s.set_geometry('geometry')\n",
        "#merged_s = merged_s[merged_s['zip']==60607]\n",
        "merged_s.plot('Trip Total',figsize=(7,7),legend=True,cmap='OrRd',legend_kwds={'label':'Average Price($)','orientation':'horizontal'})"
      ]
    },
    {
      "cell_type": "code",
      "execution_count": null,
      "id": "53b1201c",
      "metadata": {
        "id": "53b1201c"
      },
      "outputs": [],
      "source": [
        "merged_w = pd.merge(jw, chicago, right_on='zip', left_index=True)"
      ]
    },
    {
      "cell_type": "code",
      "execution_count": null,
      "id": "771ababf",
      "metadata": {
        "id": "771ababf",
        "outputId": "ea0fe4da-421d-403e-bbb8-3f04dafd0adb"
      },
      "outputs": [
        {
          "data": {
            "text/plain": [
              "Trip Total     float64\n",
              "objectid        object\n",
              "shape_area      object\n",
              "shape_len       object\n",
              "zip             object\n",
              "geometry      geometry\n",
              "dtype: object"
            ]
          },
          "execution_count": 29,
          "metadata": {},
          "output_type": "execute_result"
        }
      ],
      "source": [
        "merged_w.dtypes"
      ]
    },
    {
      "cell_type": "code",
      "execution_count": null,
      "id": "650e1e08",
      "metadata": {
        "id": "650e1e08",
        "outputId": "50919e9d-d765-40d5-a6a4-e63afdb6482d"
      },
      "outputs": [
        {
          "data": {
            "text/plain": [
              "<AxesSubplot:>"
            ]
          },
          "execution_count": 51,
          "metadata": {},
          "output_type": "execute_result"
        },
        {
          "data": {
            "image/png": "[encoded data removed]",
            "text/plain": [
              "<Figure size 504x504 with 2 Axes>"
            ]
          },
          "metadata": {
            "needs_background": "light"
          },
          "output_type": "display_data"
        }
      ],
      "source": [
        "merged_w = merged_w.set_geometry('geometry')\n",
        "merged_w.plot('Trip Total',figsize=(7,7),legend=True,cmap='Blues',legend_kwds={'label':'Average Price($)','orientation':'horizontal'})\n"
      ]
    },
    {
      "cell_type": "code",
      "execution_count": null,
      "id": "f2f831ed",
      "metadata": {
        "id": "f2f831ed"
      },
      "outputs": [],
      "source": [
        "jcs = joined_summer.groupby(\"zip\").count()\n",
        "jcs = jcs.filter(['geometry'])\n",
        "jcs = jcs.rename(columns={'geometry': 'count'})"
      ]
    },
    {
      "cell_type": "code",
      "execution_count": null,
      "id": "5889262c",
      "metadata": {
        "id": "5889262c"
      },
      "outputs": [],
      "source": [
        "merged_cs = pd.merge(jcs, chicago, right_on='zip', left_index=True)"
      ]
    },
    {
      "cell_type": "code",
      "execution_count": null,
      "id": "0f4d19ea",
      "metadata": {
        "id": "0f4d19ea"
      },
      "outputs": [],
      "source": [
        "merged_cs['objectid'] = merged_cs['objectid'].astype(int)\n",
        "merged_cs['shape_len'] = merged_cs['shape_len'].astype(float)\n",
        "merged_cs['shape_area'] = merged_cs['shape_area'].astype(float)\n",
        "merged_cs['zip'] = merged_cs['zip'].astype(int)"
      ]
    },
    {
      "cell_type": "code",
      "execution_count": null,
      "id": "554b6bd2",
      "metadata": {
        "id": "554b6bd2",
        "outputId": "c93894c4-e356-4a4f-9f19-2db929e3918f"
      },
      "outputs": [
        {
          "data": {
            "text/plain": [
              "<AxesSubplot:>"
            ]
          },
          "execution_count": 67,
          "metadata": {},
          "output_type": "execute_result"
        },
        {
          "data": {
            "image/png": "[encoded data removed]",
            "text/plain": [
              "<Figure size 504x504 with 2 Axes>"
            ]
          },
          "metadata": {
            "needs_background": "light"
          },
          "output_type": "display_data"
        }
      ],
      "source": [
        "merged_cs = merged_cs.set_geometry('geometry')\n",
        "merged_cs.plot('count',figsize=(7,7),legend=True,cmap='OrRd',legend_kwds={'label':'number of rides','orientation':'horizontal'})"
      ]
    },
    {
      "cell_type": "code",
      "execution_count": null,
      "id": "23c5997c",
      "metadata": {
        "id": "23c5997c"
      },
      "outputs": [],
      "source": [
        "jcw = joined_winter.groupby(\"zip\").count()\n",
        "jcw = jcw.filter(['geometry'])\n",
        "jcw = jcw.rename(columns={'geometry': 'count'})"
      ]
    },
    {
      "cell_type": "code",
      "execution_count": null,
      "id": "34e5162f",
      "metadata": {
        "id": "34e5162f"
      },
      "outputs": [],
      "source": [
        "merged_cw = pd.merge(jcw, chicago, right_on='zip', left_index=True)"
      ]
    },
    {
      "cell_type": "code",
      "execution_count": null,
      "id": "bd15cb04",
      "metadata": {
        "id": "bd15cb04"
      },
      "outputs": [],
      "source": [
        "merged_cw['objectid'] = merged_cw['objectid'].astype(int)\n",
        "merged_cw['shape_len'] = merged_cw['shape_len'].astype(float)\n",
        "merged_cw['shape_area'] = merged_cw['shape_area'].astype(float)\n",
        "merged_cw['zip'] = merged_cw['zip'].astype(int)"
      ]
    },
    {
      "cell_type": "code",
      "execution_count": null,
      "id": "17c2e2b6",
      "metadata": {
        "id": "17c2e2b6",
        "outputId": "90819a5b-8e8a-4a98-fed7-46afbd5051d4"
      },
      "outputs": [
        {
          "data": {
            "text/plain": [
              "<AxesSubplot:>"
            ]
          },
          "execution_count": 72,
          "metadata": {},
          "output_type": "execute_result"
        },
        {
          "data": {
            "image/png": "[encoded data removed]",
            "text/plain": [
              "<Figure size 504x504 with 2 Axes>"
            ]
          },
          "metadata": {
            "needs_background": "light"
          },
          "output_type": "display_data"
        }
      ],
      "source": [
        "merged_cw = merged_cw.set_geometry('geometry')\n",
        "merged_cw.plot('count',figsize=(7,7),legend=True,cmap='Blues',legend_kwds={'label':'number of rides','orientation':'horizontal'})\n"
      ]
    }
  ],
  "metadata": {
    "kernelspec": {
      "display_name": "Python 3 (ipykernel)",
      "language": "python",
      "name": "python3"
    },
    "language_info": {
      "codemirror_mode": {
        "name": "ipython",
        "version": 3
      },
      "file_extension": ".py",
      "mimetype": "text/x-python",
      "name": "python",
      "nbconvert_exporter": "python",
      "pygments_lexer": "ipython3",
      "version": "3.9.7"
    },
    "colab": {
      "provenance": [],
      "collapsed_sections": []
    }
  },
  "nbformat": 4,
  "nbformat_minor": 5
}